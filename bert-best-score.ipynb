{
 "cells": [
  {
   "cell_type": "code",
   "execution_count": 1,
   "id": "4a00c0e5",
   "metadata": {
    "_cell_guid": "b1076dfc-b9ad-4769-8c92-a6c4dae69d19",
    "_uuid": "8f2839f25d086af736a60e9eeb907d3b93b6e0e5",
    "execution": {
     "iopub.execute_input": "2022-09-09T08:12:35.660371Z",
     "iopub.status.busy": "2022-09-09T08:12:35.659355Z",
     "iopub.status.idle": "2022-09-09T08:13:19.781962Z",
     "shell.execute_reply": "2022-09-09T08:13:19.780723Z"
    },
    "papermill": {
     "duration": 44.133771,
     "end_time": "2022-09-09T08:13:19.784291",
     "exception": false,
     "start_time": "2022-09-09T08:12:35.650520",
     "status": "completed"
    },
    "tags": []
   },
   "outputs": [
    {
     "name": "stdout",
     "output_type": "stream",
     "text": [
      "Collecting contractions\r\n",
      "  Downloading contractions-0.1.72-py2.py3-none-any.whl (8.3 kB)\r\n",
      "Collecting textsearch>=0.0.21\r\n",
      "  Downloading textsearch-0.0.24-py2.py3-none-any.whl (7.6 kB)\r\n",
      "Collecting anyascii\r\n",
      "  Downloading anyascii-0.3.1-py3-none-any.whl (287 kB)\r\n",
      "\u001b[2K     \u001b[90m━━━━━━━━━━━━━━━━━━━━━━━━━━━━━━━━━━━━━━━\u001b[0m \u001b[32m287.5/287.5 kB\u001b[0m \u001b[31m1.0 MB/s\u001b[0m eta \u001b[36m0:00:00\u001b[0m\r\n",
      "\u001b[?25hCollecting pyahocorasick\r\n",
      "  Downloading pyahocorasick-1.4.4-cp37-cp37m-manylinux_2_17_x86_64.manylinux2014_x86_64.whl (106 kB)\r\n",
      "\u001b[2K     \u001b[90m━━━━━━━━━━━━━━━━━━━━━━━━━━━━━━━━━━━━━━━\u001b[0m \u001b[32m106.5/106.5 kB\u001b[0m \u001b[31m4.9 MB/s\u001b[0m eta \u001b[36m0:00:00\u001b[0m\r\n",
      "\u001b[?25hInstalling collected packages: pyahocorasick, anyascii, textsearch, contractions\r\n",
      "Successfully installed anyascii-0.3.1 contractions-0.1.72 pyahocorasick-1.4.4 textsearch-0.0.24\r\n",
      "\u001b[33mWARNING: Running pip as the 'root' user can result in broken permissions and conflicting behaviour with the system package manager. It is recommended to use a virtual environment instead: https://pip.pypa.io/warnings/venv\u001b[0m\u001b[33m\r\n",
      "\u001b[0mCollecting bert-for-tf2\r\n",
      "  Downloading bert-for-tf2-0.14.9.tar.gz (41 kB)\r\n",
      "\u001b[2K     \u001b[90m━━━━━━━━━━━━━━━━━━━━━━━━━━━━━━━━━━━━━━━\u001b[0m \u001b[32m41.2/41.2 kB\u001b[0m \u001b[31m332.2 kB/s\u001b[0m eta \u001b[36m0:00:00\u001b[0m\r\n",
      "\u001b[?25h  Preparing metadata (setup.py) ... \u001b[?25l-\b \bdone\r\n",
      "\u001b[?25hCollecting py-params>=0.9.6\r\n",
      "  Downloading py-params-0.10.2.tar.gz (7.4 kB)\r\n",
      "  Preparing metadata (setup.py) ... \u001b[?25l-\b \bdone\r\n",
      "\u001b[?25hCollecting params-flow>=0.8.0\r\n",
      "  Downloading params-flow-0.8.2.tar.gz (22 kB)\r\n",
      "  Preparing metadata (setup.py) ... \u001b[?25l-\b \bdone\r\n",
      "\u001b[?25hRequirement already satisfied: numpy in /opt/conda/lib/python3.7/site-packages (from params-flow>=0.8.0->bert-for-tf2) (1.21.6)\r\n",
      "Requirement already satisfied: tqdm in /opt/conda/lib/python3.7/site-packages (from params-flow>=0.8.0->bert-for-tf2) (4.64.0)\r\n",
      "Building wheels for collected packages: bert-for-tf2, params-flow, py-params\r\n",
      "  Building wheel for bert-for-tf2 (setup.py) ... \u001b[?25l-\b \b\\\b \bdone\r\n",
      "\u001b[?25h  Created wheel for bert-for-tf2: filename=bert_for_tf2-0.14.9-py3-none-any.whl size=30535 sha256=5dab617670224f8be0f162e56fe0759136005d856e487c829d46f45acfaad1ff\r\n",
      "  Stored in directory: /root/.cache/pip/wheels/47/b6/e5/8c76ec779f54bc5c2f1b57d2200bb9c77616da83873e8acb53\r\n",
      "  Building wheel for params-flow (setup.py) ... \u001b[?25l-\b \b\\\b \bdone\r\n",
      "\u001b[?25h  Created wheel for params-flow: filename=params_flow-0.8.2-py3-none-any.whl size=19472 sha256=6c90b0f22d9ae7d7c3fa39c5fed115422935f614b4e3d5b6160066f678469586\r\n",
      "  Stored in directory: /root/.cache/pip/wheels/0e/fc/d2/a44fff33af0f233d7def6e7de413006d57c10e10ad736fe8f5\r\n",
      "  Building wheel for py-params (setup.py) ... \u001b[?25l-\b \bdone\r\n",
      "\u001b[?25h  Created wheel for py-params: filename=py_params-0.10.2-py3-none-any.whl size=7911 sha256=781bd965d86f6ccfb6c76f2e7a808b00ee0fae50a34037758d9c81784a9cd27d\r\n",
      "  Stored in directory: /root/.cache/pip/wheels/e1/11/67/33cc51bbee127cb8fb2ba549cd29109b2f22da43ddf9969716\r\n",
      "Successfully built bert-for-tf2 params-flow py-params\r\n",
      "Installing collected packages: py-params, params-flow, bert-for-tf2\r\n",
      "Successfully installed bert-for-tf2-0.14.9 params-flow-0.8.2 py-params-0.10.2\r\n",
      "\u001b[33mWARNING: Running pip as the 'root' user can result in broken permissions and conflicting behaviour with the system package manager. It is recommended to use a virtual environment instead: https://pip.pypa.io/warnings/venv\u001b[0m\u001b[33m\r\n",
      "\u001b[0mRequirement already satisfied: tensorflow-addons in /opt/conda/lib/python3.7/site-packages (0.14.0)\r\n",
      "Requirement already satisfied: typeguard>=2.7 in /opt/conda/lib/python3.7/site-packages (from tensorflow-addons) (2.13.3)\r\n",
      "\u001b[33mWARNING: Running pip as the 'root' user can result in broken permissions and conflicting behaviour with the system package manager. It is recommended to use a virtual environment instead: https://pip.pypa.io/warnings/venv\u001b[0m\u001b[33m\r\n",
      "\u001b[0m/kaggle/input/nlp-getting-started/sample_submission.csv\n",
      "/kaggle/input/nlp-getting-started/train.csv\n",
      "/kaggle/input/nlp-getting-started/test.csv\n"
     ]
    }
   ],
   "source": [
    "# This Python 3 environment comes with many helpful analytics libraries installed\n",
    "# It is defined by the kaggle/python Docker image: https://github.com/kaggle/docker-python\n",
    "# For example, here's several helpful packages to load\n",
    "\n",
    "import numpy as np # linear algebra\n",
    "import pandas as pd # data processing, CSV file I/O (e.g. pd.read_csv)\n",
    "import matplotlib.pyplot as plt\n",
    "# data cleaning\n",
    "!pip install contractions\n",
    "import contractions\n",
    "import re\n",
    "import string\n",
    "# BERT\n",
    "!pip install bert-for-tf2\n",
    "from bert import bert_tokenization\n",
    "# TF\n",
    "import os\n",
    "os.environ['TF_CPP_MIN_LOG_LEVEL'] = '3' \n",
    "import tensorflow as tf\n",
    "import tensorflow_hub as hub\n",
    "from sklearn import preprocessing\n",
    "!pip install tensorflow-addons\n",
    "import tensorflow_addons as tfa\n",
    "from sklearn.model_selection import StratifiedKFold\n",
    "\n",
    "# Input data files are available in the read-only \"../input/\" directory\n",
    "# For example, running this (by clicking run or pressing Shift+Enter) will list all files under the input directory\n",
    "\n",
    "import os\n",
    "for dirname, _, filenames in os.walk('/kaggle/input'):\n",
    "    for filename in filenames:\n",
    "        print(os.path.join(dirname, filename))\n",
    "\n",
    "# You can write up to 20GB to the current directory (/kaggle/working/) that gets preserved as output when you create a version using \"Save & Run All\" \n",
    "# You can also write temporary files to /kaggle/temp/, but they won't be saved outside of the current session"
   ]
  },
  {
   "cell_type": "code",
   "execution_count": 2,
   "id": "bb28b154",
   "metadata": {
    "execution": {
     "iopub.execute_input": "2022-09-09T08:13:19.802807Z",
     "iopub.status.busy": "2022-09-09T08:13:19.801919Z",
     "iopub.status.idle": "2022-09-09T08:13:19.946774Z",
     "shell.execute_reply": "2022-09-09T08:13:19.945812Z"
    },
    "papermill": {
     "duration": 0.156166,
     "end_time": "2022-09-09T08:13:19.949038",
     "exception": false,
     "start_time": "2022-09-09T08:13:19.792872",
     "status": "completed"
    },
    "tags": []
   },
   "outputs": [],
   "source": [
    "train = pd.read_csv('../input/nlp-getting-started/train.csv')\n",
    "test = pd.read_csv('../input/nlp-getting-started/test.csv')\n",
    "submission = pd.read_csv('../input/nlp-getting-started/sample_submission.csv')"
   ]
  },
  {
   "cell_type": "markdown",
   "id": "626fb600",
   "metadata": {
    "papermill": {
     "duration": 0.00812,
     "end_time": "2022-09-09T08:13:19.966006",
     "exception": false,
     "start_time": "2022-09-09T08:13:19.957886",
     "status": "completed"
    },
    "tags": []
   },
   "source": [
    "# Clean data"
   ]
  },
  {
   "cell_type": "markdown",
   "id": "2366afdd",
   "metadata": {
    "papermill": {
     "duration": 0.007863,
     "end_time": "2022-09-09T08:13:19.981996",
     "exception": false,
     "start_time": "2022-09-09T08:13:19.974133",
     "status": "completed"
    },
    "tags": []
   },
   "source": [
    "Relabel for duplicates with different target"
   ]
  },
  {
   "cell_type": "code",
   "execution_count": 3,
   "id": "0d55ee2d",
   "metadata": {
    "execution": {
     "iopub.execute_input": "2022-09-09T08:13:19.998749Z",
     "iopub.status.busy": "2022-09-09T08:13:19.998440Z",
     "iopub.status.idle": "2022-09-09T08:13:21.159022Z",
     "shell.execute_reply": "2022-09-09T08:13:21.158105Z"
    },
    "papermill": {
     "duration": 1.171736,
     "end_time": "2022-09-09T08:13:21.161488",
     "exception": false,
     "start_time": "2022-09-09T08:13:19.989752",
     "status": "completed"
    },
    "tags": []
   },
   "outputs": [
    {
     "data": {
      "text/html": [
       "<div>\n",
       "<style scoped>\n",
       "    .dataframe tbody tr th:only-of-type {\n",
       "        vertical-align: middle;\n",
       "    }\n",
       "\n",
       "    .dataframe tbody tr th {\n",
       "        vertical-align: top;\n",
       "    }\n",
       "\n",
       "    .dataframe thead th {\n",
       "        text-align: right;\n",
       "    }\n",
       "</style>\n",
       "<table border=\"1\" class=\"dataframe\">\n",
       "  <thead>\n",
       "    <tr style=\"text-align: right;\">\n",
       "      <th></th>\n",
       "      <th>id</th>\n",
       "      <th>keyword</th>\n",
       "      <th>location</th>\n",
       "      <th>text</th>\n",
       "      <th>target</th>\n",
       "    </tr>\n",
       "  </thead>\n",
       "  <tbody>\n",
       "    <tr>\n",
       "      <th>4290</th>\n",
       "      <td>6094</td>\n",
       "      <td>hellfire</td>\n",
       "      <td>Jubail IC, Saudi Arabia.</td>\n",
       "      <td>#Allah describes piling up #wealth thinking it would last #forever as the description of the people of #Hellfire in Surah Humaza. #Reflect</td>\n",
       "      <td>0</td>\n",
       "    </tr>\n",
       "    <tr>\n",
       "      <th>4299</th>\n",
       "      <td>6105</td>\n",
       "      <td>hellfire</td>\n",
       "      <td>?????? ??? ?????? ????????</td>\n",
       "      <td>#Allah describes piling up #wealth thinking it would last #forever as the description of the people of #Hellfire in Surah Humaza. #Reflect</td>\n",
       "      <td>0</td>\n",
       "    </tr>\n",
       "    <tr>\n",
       "      <th>4312</th>\n",
       "      <td>6123</td>\n",
       "      <td>hellfire</td>\n",
       "      <td>?????? ???? ??????</td>\n",
       "      <td>#Allah describes piling up #wealth thinking it would last #forever as the description of the people of #Hellfire in Surah Humaza. #Reflect</td>\n",
       "      <td>1</td>\n",
       "    </tr>\n",
       "    <tr>\n",
       "      <th>4244</th>\n",
       "      <td>6031</td>\n",
       "      <td>hazardous</td>\n",
       "      <td>New Delhi, Delhi</td>\n",
       "      <td>#foodscare #offers2go #NestleIndia slips into loss after #Magginoodle #ban unsafe and hazardous for #humanconsumption</td>\n",
       "      <td>0</td>\n",
       "    </tr>\n",
       "    <tr>\n",
       "      <th>4221</th>\n",
       "      <td>5996</td>\n",
       "      <td>hazardous</td>\n",
       "      <td>NaN</td>\n",
       "      <td>#foodscare #offers2go #NestleIndia slips into loss after #Magginoodle #ban unsafe and hazardous for #humanconsumption</td>\n",
       "      <td>1</td>\n",
       "    </tr>\n",
       "    <tr>\n",
       "      <th>4239</th>\n",
       "      <td>6023</td>\n",
       "      <td>hazardous</td>\n",
       "      <td>Mysore, Karnataka</td>\n",
       "      <td>#foodscare #offers2go #NestleIndia slips into loss after #Magginoodle #ban unsafe and hazardous for #humanconsumption</td>\n",
       "      <td>1</td>\n",
       "    </tr>\n",
       "    <tr>\n",
       "      <th>2832</th>\n",
       "      <td>4076</td>\n",
       "      <td>displaced</td>\n",
       "      <td>Pedophile hunting ground</td>\n",
       "      <td>.POTUS #StrategicPatience is a strategy for #Genocide; refugees; IDP Internally displaced people; horror; etc. https://t.co/rqWuoy1fm4</td>\n",
       "      <td>0</td>\n",
       "    </tr>\n",
       "    <tr>\n",
       "      <th>2831</th>\n",
       "      <td>4072</td>\n",
       "      <td>displaced</td>\n",
       "      <td>Pedophile hunting ground</td>\n",
       "      <td>.POTUS #StrategicPatience is a strategy for #Genocide; refugees; IDP Internally displaced people; horror; etc. https://t.co/rqWuoy1fm4</td>\n",
       "      <td>1</td>\n",
       "    </tr>\n",
       "    <tr>\n",
       "      <th>2830</th>\n",
       "      <td>4068</td>\n",
       "      <td>displaced</td>\n",
       "      <td>Pedophile hunting ground</td>\n",
       "      <td>.POTUS #StrategicPatience is a strategy for #Genocide; refugees; IDP Internally displaced people; horror; etc. https://t.co/rqWuoy1fm4</td>\n",
       "      <td>1</td>\n",
       "    </tr>\n",
       "    <tr>\n",
       "      <th>2833</th>\n",
       "      <td>4077</td>\n",
       "      <td>displaced</td>\n",
       "      <td>Pedophile hunting ground</td>\n",
       "      <td>.POTUS #StrategicPatience is a strategy for #Genocide; refugees; IDP Internally displaced people; horror; etc. https://t.co/rqWuoy1fm4</td>\n",
       "      <td>1</td>\n",
       "    </tr>\n",
       "    <tr>\n",
       "      <th>4618</th>\n",
       "      <td>6566</td>\n",
       "      <td>injury</td>\n",
       "      <td>NaN</td>\n",
       "      <td>CLEARED:incident with injury:I-495  inner loop Exit 31 - MD 97/Georgia Ave Silver Spring</td>\n",
       "      <td>0</td>\n",
       "    </tr>\n",
       "    <tr>\n",
       "      <th>4605</th>\n",
       "      <td>6548</td>\n",
       "      <td>injury</td>\n",
       "      <td>NaN</td>\n",
       "      <td>CLEARED:incident with injury:I-495  inner loop Exit 31 - MD 97/Georgia Ave Silver Spring</td>\n",
       "      <td>1</td>\n",
       "    </tr>\n",
       "    <tr>\n",
       "      <th>4597</th>\n",
       "      <td>6537</td>\n",
       "      <td>injury</td>\n",
       "      <td>NaN</td>\n",
       "      <td>CLEARED:incident with injury:I-495  inner loop Exit 31 - MD 97/Georgia Ave Silver Spring</td>\n",
       "      <td>1</td>\n",
       "    </tr>\n",
       "    <tr>\n",
       "      <th>4235</th>\n",
       "      <td>6017</td>\n",
       "      <td>hazardous</td>\n",
       "      <td>NaN</td>\n",
       "      <td>Caution: breathing may be hazardous to your health.</td>\n",
       "      <td>0</td>\n",
       "    </tr>\n",
       "    <tr>\n",
       "      <th>4232</th>\n",
       "      <td>6012</td>\n",
       "      <td>hazardous</td>\n",
       "      <td>NaN</td>\n",
       "      <td>Caution: breathing may be hazardous to your health.</td>\n",
       "      <td>1</td>\n",
       "    </tr>\n",
       "    <tr>\n",
       "      <th>3261</th>\n",
       "      <td>4684</td>\n",
       "      <td>engulfed</td>\n",
       "      <td>NaN</td>\n",
       "      <td>He came to a land which was engulfed in tribal war and turned it into a land of peace i.e. Madinah. #ProphetMuhammad #islam</td>\n",
       "      <td>0</td>\n",
       "    </tr>\n",
       "    <tr>\n",
       "      <th>3240</th>\n",
       "      <td>4656</td>\n",
       "      <td>engulfed</td>\n",
       "      <td>NaN</td>\n",
       "      <td>He came to a land which was engulfed in tribal war and turned it into a land of peace i.e. Madinah. #ProphetMuhammad #islam</td>\n",
       "      <td>0</td>\n",
       "    </tr>\n",
       "    <tr>\n",
       "      <th>3243</th>\n",
       "      <td>4659</td>\n",
       "      <td>engulfed</td>\n",
       "      <td>Kuwait</td>\n",
       "      <td>He came to a land which was engulfed in tribal war and turned it into a land of peace i.e. Madinah. #ProphetMuhammad #islam</td>\n",
       "      <td>1</td>\n",
       "    </tr>\n",
       "    <tr>\n",
       "      <th>3248</th>\n",
       "      <td>4669</td>\n",
       "      <td>engulfed</td>\n",
       "      <td>Bahrain</td>\n",
       "      <td>He came to a land which was engulfed in tribal war and turned it into a land of peace i.e. Madinah. #ProphetMuhammad #islam</td>\n",
       "      <td>1</td>\n",
       "    </tr>\n",
       "    <tr>\n",
       "      <th>3251</th>\n",
       "      <td>4672</td>\n",
       "      <td>engulfed</td>\n",
       "      <td>NaN</td>\n",
       "      <td>He came to a land which was engulfed in tribal war and turned it into a land of peace i.e. Madinah. #ProphetMuhammad #islam</td>\n",
       "      <td>0</td>\n",
       "    </tr>\n",
       "    <tr>\n",
       "      <th>3266</th>\n",
       "      <td>4691</td>\n",
       "      <td>engulfed</td>\n",
       "      <td>NaN</td>\n",
       "      <td>He came to a land which was engulfed in tribal war and turned it into a land of peace i.e. Madinah. #ProphetMuhammad #islam</td>\n",
       "      <td>0</td>\n",
       "    </tr>\n",
       "    <tr>\n",
       "      <th>4285</th>\n",
       "      <td>6088</td>\n",
       "      <td>hellfire</td>\n",
       "      <td>NaN</td>\n",
       "      <td>Hellfire is surrounded by desires so be careful and donÛªt let your desires control you! #Afterlife</td>\n",
       "      <td>0</td>\n",
       "    </tr>\n",
       "    <tr>\n",
       "      <th>4313</th>\n",
       "      <td>6125</td>\n",
       "      <td>hellfire</td>\n",
       "      <td>NaN</td>\n",
       "      <td>Hellfire is surrounded by desires so be careful and donÛªt let your desires control you! #Afterlife</td>\n",
       "      <td>0</td>\n",
       "    </tr>\n",
       "    <tr>\n",
       "      <th>4305</th>\n",
       "      <td>6112</td>\n",
       "      <td>hellfire</td>\n",
       "      <td>NaN</td>\n",
       "      <td>Hellfire is surrounded by desires so be careful and donÛªt let your desires control you! #Afterlife</td>\n",
       "      <td>1</td>\n",
       "    </tr>\n",
       "    <tr>\n",
       "      <th>4320</th>\n",
       "      <td>6134</td>\n",
       "      <td>hellfire</td>\n",
       "      <td>Riyadh ')</td>\n",
       "      <td>Hellfire! We donÛªt even want to think about it or mention it so letÛªs not do anything that leads to it #islam!</td>\n",
       "      <td>1</td>\n",
       "    </tr>\n",
       "    <tr>\n",
       "      <th>4306</th>\n",
       "      <td>6113</td>\n",
       "      <td>hellfire</td>\n",
       "      <td>NaN</td>\n",
       "      <td>Hellfire! We donÛªt even want to think about it or mention it so letÛªs not do anything that leads to it #islam!</td>\n",
       "      <td>0</td>\n",
       "    </tr>\n",
       "    <tr>\n",
       "      <th>1365</th>\n",
       "      <td>1968</td>\n",
       "      <td>burning%20buildings</td>\n",
       "      <td>Epic City, BB.</td>\n",
       "      <td>I Pledge Allegiance To The P.O.P.E. And The Burning Buildings of Epic City. ??????</td>\n",
       "      <td>1</td>\n",
       "    </tr>\n",
       "    <tr>\n",
       "      <th>1214</th>\n",
       "      <td>1752</td>\n",
       "      <td>buildings%20burning</td>\n",
       "      <td>Epic City, BB.</td>\n",
       "      <td>I Pledge Allegiance To The P.O.P.E. And The Burning Buildings of Epic City. ??????</td>\n",
       "      <td>0</td>\n",
       "    </tr>\n",
       "    <tr>\n",
       "      <th>6616</th>\n",
       "      <td>9472</td>\n",
       "      <td>terrorism</td>\n",
       "      <td>Riyadh</td>\n",
       "      <td>In #islam saving a person is equal in reward to saving all humans! Islam is the opposite of terrorism!</td>\n",
       "      <td>1</td>\n",
       "    </tr>\n",
       "    <tr>\n",
       "      <th>6614</th>\n",
       "      <td>9470</td>\n",
       "      <td>terrorism</td>\n",
       "      <td>Jeddah_Saudi Arabia.</td>\n",
       "      <td>In #islam saving a person is equal in reward to saving all humans! Islam is the opposite of terrorism!</td>\n",
       "      <td>0</td>\n",
       "    </tr>\n",
       "    <tr>\n",
       "      <th>1331</th>\n",
       "      <td>1922</td>\n",
       "      <td>burning%20buildings</td>\n",
       "      <td>Mackay, QLD, Australia</td>\n",
       "      <td>Mmmmmm I'm burning.... I'm burning buildings I'm building.... Oooooohhhh oooh ooh...</td>\n",
       "      <td>0</td>\n",
       "    </tr>\n",
       "    <tr>\n",
       "      <th>1197</th>\n",
       "      <td>1723</td>\n",
       "      <td>buildings%20burning</td>\n",
       "      <td>Mackay, QLD, Australia</td>\n",
       "      <td>Mmmmmm I'm burning.... I'm burning buildings I'm building.... Oooooohhhh oooh ooh...</td>\n",
       "      <td>1</td>\n",
       "    </tr>\n",
       "    <tr>\n",
       "      <th>4381</th>\n",
       "      <td>6223</td>\n",
       "      <td>hijacker</td>\n",
       "      <td>worldwide</td>\n",
       "      <td>RT NotExplained: The only known image of infamous hijacker D.B. Cooper. http://t.co/JlzK2HdeTG</td>\n",
       "      <td>1</td>\n",
       "    </tr>\n",
       "    <tr>\n",
       "      <th>4379</th>\n",
       "      <td>6220</td>\n",
       "      <td>hijacker</td>\n",
       "      <td>worldwide</td>\n",
       "      <td>RT NotExplained: The only known image of infamous hijacker D.B. Cooper. http://t.co/JlzK2HdeTG</td>\n",
       "      <td>0</td>\n",
       "    </tr>\n",
       "    <tr>\n",
       "      <th>4284</th>\n",
       "      <td>6087</td>\n",
       "      <td>hellfire</td>\n",
       "      <td>NaN</td>\n",
       "      <td>The Prophet (peace be upon him) said 'Save yourself from Hellfire even if it is by giving half a date in charity.'</td>\n",
       "      <td>0</td>\n",
       "    </tr>\n",
       "    <tr>\n",
       "      <th>4318</th>\n",
       "      <td>6132</td>\n",
       "      <td>hellfire</td>\n",
       "      <td>NaN</td>\n",
       "      <td>The Prophet (peace be upon him) said 'Save yourself from Hellfire even if it is by giving half a date in charity.'</td>\n",
       "      <td>1</td>\n",
       "    </tr>\n",
       "    <tr>\n",
       "      <th>4286</th>\n",
       "      <td>6090</td>\n",
       "      <td>hellfire</td>\n",
       "      <td>Riyadh</td>\n",
       "      <td>The Prophet (peace be upon him) said 'Save yourself from Hellfire even if it is by giving half a date in charity.'</td>\n",
       "      <td>0</td>\n",
       "    </tr>\n",
       "    <tr>\n",
       "      <th>4292</th>\n",
       "      <td>6097</td>\n",
       "      <td>hellfire</td>\n",
       "      <td>NaN</td>\n",
       "      <td>The Prophet (peace be upon him) said 'Save yourself from Hellfire even if it is by giving half a date in charity.'</td>\n",
       "      <td>1</td>\n",
       "    </tr>\n",
       "    <tr>\n",
       "      <th>4309</th>\n",
       "      <td>6118</td>\n",
       "      <td>hellfire</td>\n",
       "      <td>NaN</td>\n",
       "      <td>The Prophet (peace be upon him) said 'Save yourself from Hellfire even if it is by giving half a date in charity.'</td>\n",
       "      <td>0</td>\n",
       "    </tr>\n",
       "    <tr>\n",
       "      <th>4304</th>\n",
       "      <td>6111</td>\n",
       "      <td>hellfire</td>\n",
       "      <td>NaN</td>\n",
       "      <td>The Prophet (peace be upon him) said 'Save yourself from Hellfire even if it is by giving half a date in charity.'</td>\n",
       "      <td>0</td>\n",
       "    </tr>\n",
       "    <tr>\n",
       "      <th>624</th>\n",
       "      <td>898</td>\n",
       "      <td>bioterrorism</td>\n",
       "      <td>NaN</td>\n",
       "      <td>To fight bioterrorism sir.</td>\n",
       "      <td>0</td>\n",
       "    </tr>\n",
       "    <tr>\n",
       "      <th>630</th>\n",
       "      <td>907</td>\n",
       "      <td>bioterrorism</td>\n",
       "      <td>NaN</td>\n",
       "      <td>To fight bioterrorism sir.</td>\n",
       "      <td>1</td>\n",
       "    </tr>\n",
       "    <tr>\n",
       "      <th>634</th>\n",
       "      <td>916</td>\n",
       "      <td>bioterrorism</td>\n",
       "      <td>NaN</td>\n",
       "      <td>To fight bioterrorism sir.</td>\n",
       "      <td>0</td>\n",
       "    </tr>\n",
       "    <tr>\n",
       "      <th>610</th>\n",
       "      <td>881</td>\n",
       "      <td>bioterrorism</td>\n",
       "      <td>NaN</td>\n",
       "      <td>To fight bioterrorism sir.</td>\n",
       "      <td>1</td>\n",
       "    </tr>\n",
       "    <tr>\n",
       "      <th>4013</th>\n",
       "      <td>5699</td>\n",
       "      <td>floods</td>\n",
       "      <td>NaN</td>\n",
       "      <td>Who is bringing the tornadoes and floods. Who is bringing the climate change. God is after America He is plaguing her\\n \\n#FARRAKHAN #QUOTE</td>\n",
       "      <td>0</td>\n",
       "    </tr>\n",
       "    <tr>\n",
       "      <th>3985</th>\n",
       "      <td>5662</td>\n",
       "      <td>floods</td>\n",
       "      <td>NaN</td>\n",
       "      <td>Who is bringing the tornadoes and floods. Who is bringing the climate change. God is after America He is plaguing her\\n \\n#FARRAKHAN #QUOTE</td>\n",
       "      <td>1</td>\n",
       "    </tr>\n",
       "    <tr>\n",
       "      <th>4019</th>\n",
       "      <td>5710</td>\n",
       "      <td>floods</td>\n",
       "      <td>NaN</td>\n",
       "      <td>Who is bringing the tornadoes and floods. Who is bringing the climate change. God is after America He is plaguing her\\n \\n#FARRAKHAN #QUOTE</td>\n",
       "      <td>0</td>\n",
       "    </tr>\n",
       "    <tr>\n",
       "      <th>1221</th>\n",
       "      <td>1760</td>\n",
       "      <td>buildings%20burning</td>\n",
       "      <td>dallas</td>\n",
       "      <td>like for the music video I want some real action shit like burning buildings and police chases not some weak ben winston shit</td>\n",
       "      <td>1</td>\n",
       "    </tr>\n",
       "    <tr>\n",
       "      <th>1349</th>\n",
       "      <td>1950</td>\n",
       "      <td>burning%20buildings</td>\n",
       "      <td>dallas</td>\n",
       "      <td>like for the music video I want some real action shit like burning buildings and police chases not some weak ben winston shit</td>\n",
       "      <td>0</td>\n",
       "    </tr>\n",
       "    <tr>\n",
       "      <th>6091</th>\n",
       "      <td>8698</td>\n",
       "      <td>sinking</td>\n",
       "      <td>Every Where in the World</td>\n",
       "      <td>that horrible sinking feeling when youÛªve been at home on your phone for a while and you realise its been on 3G this whole time</td>\n",
       "      <td>1</td>\n",
       "    </tr>\n",
       "    <tr>\n",
       "      <th>6094</th>\n",
       "      <td>8702</td>\n",
       "      <td>sinking</td>\n",
       "      <td>NaN</td>\n",
       "      <td>that horrible sinking feeling when youÛªve been at home on your phone for a while and you realise its been on 3G this whole time</td>\n",
       "      <td>0</td>\n",
       "    </tr>\n",
       "    <tr>\n",
       "      <th>6103</th>\n",
       "      <td>8714</td>\n",
       "      <td>sinking</td>\n",
       "      <td>NaN</td>\n",
       "      <td>that horrible sinking feeling when youÛªve been at home on your phone for a while and you realise its been on 3G this whole time</td>\n",
       "      <td>0</td>\n",
       "    </tr>\n",
       "    <tr>\n",
       "      <th>6123</th>\n",
       "      <td>8739</td>\n",
       "      <td>sinking</td>\n",
       "      <td>MA</td>\n",
       "      <td>that horrible sinking feeling when youÛªve been at home on your phone for a while and you realise its been on 3G this whole time</td>\n",
       "      <td>1</td>\n",
       "    </tr>\n",
       "    <tr>\n",
       "      <th>5620</th>\n",
       "      <td>8018</td>\n",
       "      <td>refugees</td>\n",
       "      <td>NaN</td>\n",
       "      <td>wowo--=== 12000 Nigerian refugees repatriated from Cameroon</td>\n",
       "      <td>1</td>\n",
       "    </tr>\n",
       "    <tr>\n",
       "      <th>5641</th>\n",
       "      <td>8044</td>\n",
       "      <td>refugees</td>\n",
       "      <td>NaN</td>\n",
       "      <td>wowo--=== 12000 Nigerian refugees repatriated from Cameroon</td>\n",
       "      <td>0</td>\n",
       "    </tr>\n",
       "  </tbody>\n",
       "</table>\n",
       "</div>"
      ],
      "text/plain": [
       "        id              keyword                    location  \\\n",
       "4290  6094             hellfire    Jubail IC, Saudi Arabia.   \n",
       "4299  6105             hellfire  ?????? ??? ?????? ????????   \n",
       "4312  6123             hellfire          ?????? ???? ??????   \n",
       "4244  6031            hazardous            New Delhi, Delhi   \n",
       "4221  5996            hazardous                         NaN   \n",
       "4239  6023            hazardous           Mysore, Karnataka   \n",
       "2832  4076            displaced    Pedophile hunting ground   \n",
       "2831  4072            displaced    Pedophile hunting ground   \n",
       "2830  4068            displaced    Pedophile hunting ground   \n",
       "2833  4077            displaced    Pedophile hunting ground   \n",
       "4618  6566               injury                         NaN   \n",
       "4605  6548               injury                         NaN   \n",
       "4597  6537               injury                         NaN   \n",
       "4235  6017            hazardous                         NaN   \n",
       "4232  6012            hazardous                         NaN   \n",
       "3261  4684             engulfed                         NaN   \n",
       "3240  4656             engulfed                         NaN   \n",
       "3243  4659             engulfed                     Kuwait    \n",
       "3248  4669             engulfed                     Bahrain   \n",
       "3251  4672             engulfed                         NaN   \n",
       "3266  4691             engulfed                         NaN   \n",
       "4285  6088             hellfire                         NaN   \n",
       "4313  6125             hellfire                         NaN   \n",
       "4305  6112             hellfire                         NaN   \n",
       "4320  6134             hellfire                   Riyadh ')   \n",
       "4306  6113             hellfire                         NaN   \n",
       "1365  1968  burning%20buildings              Epic City, BB.   \n",
       "1214  1752  buildings%20burning              Epic City, BB.   \n",
       "6616  9472            terrorism                      Riyadh   \n",
       "6614  9470            terrorism        Jeddah_Saudi Arabia.   \n",
       "1331  1922  burning%20buildings      Mackay, QLD, Australia   \n",
       "1197  1723  buildings%20burning      Mackay, QLD, Australia   \n",
       "4381  6223             hijacker                   worldwide   \n",
       "4379  6220             hijacker                   worldwide   \n",
       "4284  6087             hellfire                         NaN   \n",
       "4318  6132             hellfire                         NaN   \n",
       "4286  6090             hellfire                      Riyadh   \n",
       "4292  6097             hellfire                         NaN   \n",
       "4309  6118             hellfire                         NaN   \n",
       "4304  6111             hellfire                         NaN   \n",
       "624    898         bioterrorism                         NaN   \n",
       "630    907         bioterrorism                         NaN   \n",
       "634    916         bioterrorism                         NaN   \n",
       "610    881         bioterrorism                         NaN   \n",
       "4013  5699               floods                         NaN   \n",
       "3985  5662               floods                         NaN   \n",
       "4019  5710               floods                         NaN   \n",
       "1221  1760  buildings%20burning                      dallas   \n",
       "1349  1950  burning%20buildings                      dallas   \n",
       "6091  8698              sinking    Every Where in the World   \n",
       "6094  8702              sinking                         NaN   \n",
       "6103  8714              sinking                         NaN   \n",
       "6123  8739              sinking                          MA   \n",
       "5620  8018             refugees                         NaN   \n",
       "5641  8044             refugees                         NaN   \n",
       "\n",
       "                                                                                                                                             text  \\\n",
       "4290   #Allah describes piling up #wealth thinking it would last #forever as the description of the people of #Hellfire in Surah Humaza. #Reflect   \n",
       "4299   #Allah describes piling up #wealth thinking it would last #forever as the description of the people of #Hellfire in Surah Humaza. #Reflect   \n",
       "4312   #Allah describes piling up #wealth thinking it would last #forever as the description of the people of #Hellfire in Surah Humaza. #Reflect   \n",
       "4244                        #foodscare #offers2go #NestleIndia slips into loss after #Magginoodle #ban unsafe and hazardous for #humanconsumption   \n",
       "4221                        #foodscare #offers2go #NestleIndia slips into loss after #Magginoodle #ban unsafe and hazardous for #humanconsumption   \n",
       "4239                        #foodscare #offers2go #NestleIndia slips into loss after #Magginoodle #ban unsafe and hazardous for #humanconsumption   \n",
       "2832       .POTUS #StrategicPatience is a strategy for #Genocide; refugees; IDP Internally displaced people; horror; etc. https://t.co/rqWuoy1fm4   \n",
       "2831       .POTUS #StrategicPatience is a strategy for #Genocide; refugees; IDP Internally displaced people; horror; etc. https://t.co/rqWuoy1fm4   \n",
       "2830       .POTUS #StrategicPatience is a strategy for #Genocide; refugees; IDP Internally displaced people; horror; etc. https://t.co/rqWuoy1fm4   \n",
       "2833       .POTUS #StrategicPatience is a strategy for #Genocide; refugees; IDP Internally displaced people; horror; etc. https://t.co/rqWuoy1fm4   \n",
       "4618                                                     CLEARED:incident with injury:I-495  inner loop Exit 31 - MD 97/Georgia Ave Silver Spring   \n",
       "4605                                                     CLEARED:incident with injury:I-495  inner loop Exit 31 - MD 97/Georgia Ave Silver Spring   \n",
       "4597                                                     CLEARED:incident with injury:I-495  inner loop Exit 31 - MD 97/Georgia Ave Silver Spring   \n",
       "4235                                                                                          Caution: breathing may be hazardous to your health.   \n",
       "4232                                                                                          Caution: breathing may be hazardous to your health.   \n",
       "3261                  He came to a land which was engulfed in tribal war and turned it into a land of peace i.e. Madinah. #ProphetMuhammad #islam   \n",
       "3240                  He came to a land which was engulfed in tribal war and turned it into a land of peace i.e. Madinah. #ProphetMuhammad #islam   \n",
       "3243                  He came to a land which was engulfed in tribal war and turned it into a land of peace i.e. Madinah. #ProphetMuhammad #islam   \n",
       "3248                  He came to a land which was engulfed in tribal war and turned it into a land of peace i.e. Madinah. #ProphetMuhammad #islam   \n",
       "3251                  He came to a land which was engulfed in tribal war and turned it into a land of peace i.e. Madinah. #ProphetMuhammad #islam   \n",
       "3266                  He came to a land which was engulfed in tribal war and turned it into a land of peace i.e. Madinah. #ProphetMuhammad #islam   \n",
       "4285                                         Hellfire is surrounded by desires so be careful and donÛªt let your desires control you! #Afterlife   \n",
       "4313                                         Hellfire is surrounded by desires so be careful and donÛªt let your desires control you! #Afterlife   \n",
       "4305                                         Hellfire is surrounded by desires so be careful and donÛªt let your desires control you! #Afterlife   \n",
       "4320                           Hellfire! We donÛªt even want to think about it or mention it so letÛªs not do anything that leads to it #islam!   \n",
       "4306                           Hellfire! We donÛªt even want to think about it or mention it so letÛªs not do anything that leads to it #islam!   \n",
       "1365                                                           I Pledge Allegiance To The P.O.P.E. And The Burning Buildings of Epic City. ??????   \n",
       "1214                                                           I Pledge Allegiance To The P.O.P.E. And The Burning Buildings of Epic City. ??????   \n",
       "6616                                       In #islam saving a person is equal in reward to saving all humans! Islam is the opposite of terrorism!   \n",
       "6614                                       In #islam saving a person is equal in reward to saving all humans! Islam is the opposite of terrorism!   \n",
       "1331                                                         Mmmmmm I'm burning.... I'm burning buildings I'm building.... Oooooohhhh oooh ooh...   \n",
       "1197                                                         Mmmmmm I'm burning.... I'm burning buildings I'm building.... Oooooohhhh oooh ooh...   \n",
       "4381                                               RT NotExplained: The only known image of infamous hijacker D.B. Cooper. http://t.co/JlzK2HdeTG   \n",
       "4379                                               RT NotExplained: The only known image of infamous hijacker D.B. Cooper. http://t.co/JlzK2HdeTG   \n",
       "4284                           The Prophet (peace be upon him) said 'Save yourself from Hellfire even if it is by giving half a date in charity.'   \n",
       "4318                           The Prophet (peace be upon him) said 'Save yourself from Hellfire even if it is by giving half a date in charity.'   \n",
       "4286                           The Prophet (peace be upon him) said 'Save yourself from Hellfire even if it is by giving half a date in charity.'   \n",
       "4292                           The Prophet (peace be upon him) said 'Save yourself from Hellfire even if it is by giving half a date in charity.'   \n",
       "4309                           The Prophet (peace be upon him) said 'Save yourself from Hellfire even if it is by giving half a date in charity.'   \n",
       "4304                           The Prophet (peace be upon him) said 'Save yourself from Hellfire even if it is by giving half a date in charity.'   \n",
       "624                                                                                                                    To fight bioterrorism sir.   \n",
       "630                                                                                                                    To fight bioterrorism sir.   \n",
       "634                                                                                                                    To fight bioterrorism sir.   \n",
       "610                                                                                                                    To fight bioterrorism sir.   \n",
       "4013  Who is bringing the tornadoes and floods. Who is bringing the climate change. God is after America He is plaguing her\\n \\n#FARRAKHAN #QUOTE   \n",
       "3985  Who is bringing the tornadoes and floods. Who is bringing the climate change. God is after America He is plaguing her\\n \\n#FARRAKHAN #QUOTE   \n",
       "4019  Who is bringing the tornadoes and floods. Who is bringing the climate change. God is after America He is plaguing her\\n \\n#FARRAKHAN #QUOTE   \n",
       "1221                like for the music video I want some real action shit like burning buildings and police chases not some weak ben winston shit   \n",
       "1349                like for the music video I want some real action shit like burning buildings and police chases not some weak ben winston shit   \n",
       "6091            that horrible sinking feeling when youÛªve been at home on your phone for a while and you realise its been on 3G this whole time   \n",
       "6094            that horrible sinking feeling when youÛªve been at home on your phone for a while and you realise its been on 3G this whole time   \n",
       "6103            that horrible sinking feeling when youÛªve been at home on your phone for a while and you realise its been on 3G this whole time   \n",
       "6123            that horrible sinking feeling when youÛªve been at home on your phone for a while and you realise its been on 3G this whole time   \n",
       "5620                                                                                  wowo--=== 12000 Nigerian refugees repatriated from Cameroon   \n",
       "5641                                                                                  wowo--=== 12000 Nigerian refugees repatriated from Cameroon   \n",
       "\n",
       "      target  \n",
       "4290       0  \n",
       "4299       0  \n",
       "4312       1  \n",
       "4244       0  \n",
       "4221       1  \n",
       "4239       1  \n",
       "2832       0  \n",
       "2831       1  \n",
       "2830       1  \n",
       "2833       1  \n",
       "4618       0  \n",
       "4605       1  \n",
       "4597       1  \n",
       "4235       0  \n",
       "4232       1  \n",
       "3261       0  \n",
       "3240       0  \n",
       "3243       1  \n",
       "3248       1  \n",
       "3251       0  \n",
       "3266       0  \n",
       "4285       0  \n",
       "4313       0  \n",
       "4305       1  \n",
       "4320       1  \n",
       "4306       0  \n",
       "1365       1  \n",
       "1214       0  \n",
       "6616       1  \n",
       "6614       0  \n",
       "1331       0  \n",
       "1197       1  \n",
       "4381       1  \n",
       "4379       0  \n",
       "4284       0  \n",
       "4318       1  \n",
       "4286       0  \n",
       "4292       1  \n",
       "4309       0  \n",
       "4304       0  \n",
       "624        0  \n",
       "630        1  \n",
       "634        0  \n",
       "610        1  \n",
       "4013       0  \n",
       "3985       1  \n",
       "4019       0  \n",
       "1221       1  \n",
       "1349       0  \n",
       "6091       1  \n",
       "6094       0  \n",
       "6103       0  \n",
       "6123       1  \n",
       "5620       1  \n",
       "5641       0  "
      ]
     },
     "execution_count": 3,
     "metadata": {},
     "output_type": "execute_result"
    }
   ],
   "source": [
    "duplicates = train.groupby('text').filter(lambda x: x['target'].nunique()>1 ).sort_values('text')\n",
    "pd.set_option('display.max_colwidth', None)\n",
    "pd.set_option('display.max_rows', None)\n",
    "duplicates"
   ]
  },
  {
   "cell_type": "code",
   "execution_count": 4,
   "id": "730ed5f2",
   "metadata": {
    "execution": {
     "iopub.execute_input": "2022-09-09T08:13:21.181131Z",
     "iopub.status.busy": "2022-09-09T08:13:21.180444Z",
     "iopub.status.idle": "2022-09-09T08:13:21.229191Z",
     "shell.execute_reply": "2022-09-09T08:13:21.228333Z"
    },
    "papermill": {
     "duration": 0.060668,
     "end_time": "2022-09-09T08:13:21.231236",
     "exception": false,
     "start_time": "2022-09-09T08:13:21.170568",
     "status": "completed"
    },
    "tags": []
   },
   "outputs": [],
   "source": [
    "mislabeled = train.groupby(['text']).nunique().sort_values(by='target', ascending=False)\n",
    "mislabeled = mislabeled[mislabeled['target'] > 1]['target']\n",
    "mislabeled.index.tolist()\n",
    "train.loc[train['text'] == 'like for the music video I want some real action shit like burning buildings and police chases not some weak ben winston shit', 'target'] = 0\n",
    "train.loc[train['text'] == 'Hellfire is surrounded by desires so be careful and donÛªt let your desires control you! #Afterlife', 'target'] = 0\n",
    "train.loc[train['text'] == 'To fight bioterrorism sir.', 'target'] = 0\n",
    "train.loc[train['text'] == '.POTUS #StrategicPatience is a strategy for #Genocide; refugees; IDP Internally displaced people; horror; etc. https://t.co/rqWuoy1fm4', 'target'] = 1\n",
    "train.loc[train['text'] == 'CLEARED:incident with injury:I-495  inner loop Exit 31 - MD 97/Georgia Ave Silver Spring', 'target'] = 1\n",
    "train.loc[train['text'] == '#foodscare #offers2go #NestleIndia slips into loss after #Magginoodle #ban unsafe and hazardous for #humanconsumption', 'target'] = 0\n",
    "train.loc[train['text'] == 'In #islam saving a person is equal in reward to saving all humans! Islam is the opposite of terrorism!', 'target'] = 0\n",
    "train.loc[train['text'] == 'Who is bringing the tornadoes and floods. Who is bringing the climate change. God is after America He is plaguing her\\n \\n#FARRAKHAN #QUOTE', 'target'] = 1\n",
    "train.loc[train['text'] == 'RT NotExplained: The only known image of infamous hijacker D.B. Cooper. http://t.co/JlzK2HdeTG', 'target'] = 1\n",
    "train.loc[train['text'] == \"Mmmmmm I'm burning.... I'm burning buildings I'm building.... Oooooohhhh oooh ooh...\", 'target'] = 0\n",
    "train.loc[train['text'] == \"wowo--=== 12000 Nigerian refugees repatriated from Cameroon\", 'target'] = 0\n",
    "train.loc[train['text'] == \"He came to a land which was engulfed in tribal war and turned it into a land of peace i.e. Madinah. #ProphetMuhammad #islam\", 'target'] = 0\n",
    "train.loc[train['text'] == \"Hellfire! We donÛªt even want to think about it or mention it so letÛªs not do anything that leads to it #islam!\", 'target'] = 0\n",
    "train.loc[train['text'] == \"The Prophet (peace be upon him) said 'Save yourself from Hellfire even if it is by giving half a date in charity.'\", 'target'] = 0\n",
    "train.loc[train['text'] == \"Caution: breathing may be hazardous to your health.\", 'target'] = 1\n",
    "train.loc[train['text'] == \"I Pledge Allegiance To The P.O.P.E. And The Burning Buildings of Epic City. ??????\", 'target'] = 0\n",
    "train.loc[train['text'] == \"#Allah describes piling up #wealth thinking it would last #forever as the description of the people of #Hellfire in Surah Humaza. #Reflect\", 'target'] = 0\n",
    "train.loc[train['text'] == \"that horrible sinking feeling when youÛªve been at home on your phone for a while and you realise its been on 3G this whole time\", 'target'] = 0"
   ]
  },
  {
   "cell_type": "code",
   "execution_count": 5,
   "id": "7964fa1b",
   "metadata": {
    "execution": {
     "iopub.execute_input": "2022-09-09T08:13:21.251001Z",
     "iopub.status.busy": "2022-09-09T08:13:21.250728Z",
     "iopub.status.idle": "2022-09-09T08:13:22.185190Z",
     "shell.execute_reply": "2022-09-09T08:13:22.184160Z"
    },
    "papermill": {
     "duration": 0.946356,
     "end_time": "2022-09-09T08:13:22.187550",
     "exception": false,
     "start_time": "2022-09-09T08:13:21.241194",
     "status": "completed"
    },
    "tags": []
   },
   "outputs": [
    {
     "data": {
      "text/html": [
       "<div>\n",
       "<style scoped>\n",
       "    .dataframe tbody tr th:only-of-type {\n",
       "        vertical-align: middle;\n",
       "    }\n",
       "\n",
       "    .dataframe tbody tr th {\n",
       "        vertical-align: top;\n",
       "    }\n",
       "\n",
       "    .dataframe thead th {\n",
       "        text-align: right;\n",
       "    }\n",
       "</style>\n",
       "<table border=\"1\" class=\"dataframe\">\n",
       "  <thead>\n",
       "    <tr style=\"text-align: right;\">\n",
       "      <th></th>\n",
       "      <th>id</th>\n",
       "      <th>keyword</th>\n",
       "      <th>location</th>\n",
       "      <th>text</th>\n",
       "      <th>target</th>\n",
       "    </tr>\n",
       "  </thead>\n",
       "  <tbody>\n",
       "  </tbody>\n",
       "</table>\n",
       "</div>"
      ],
      "text/plain": [
       "Empty DataFrame\n",
       "Columns: [id, keyword, location, text, target]\n",
       "Index: []"
      ]
     },
     "execution_count": 5,
     "metadata": {},
     "output_type": "execute_result"
    }
   ],
   "source": [
    "duplicates = train.groupby('text').filter(lambda x: x['target'].nunique()>1 ).sort_values('text')\n",
    "duplicates"
   ]
  },
  {
   "cell_type": "markdown",
   "id": "4851f610",
   "metadata": {
    "papermill": {
     "duration": 0.008718,
     "end_time": "2022-09-09T08:13:22.206050",
     "exception": false,
     "start_time": "2022-09-09T08:13:22.197332",
     "status": "completed"
    },
    "tags": []
   },
   "source": [
    "Add keyword to text"
   ]
  },
  {
   "cell_type": "code",
   "execution_count": 6,
   "id": "4915c64d",
   "metadata": {
    "execution": {
     "iopub.execute_input": "2022-09-09T08:13:22.225801Z",
     "iopub.status.busy": "2022-09-09T08:13:22.225500Z",
     "iopub.status.idle": "2022-09-09T08:13:22.230851Z",
     "shell.execute_reply": "2022-09-09T08:13:22.229866Z"
    },
    "papermill": {
     "duration": 0.01792,
     "end_time": "2022-09-09T08:13:22.232899",
     "exception": false,
     "start_time": "2022-09-09T08:13:22.214979",
     "status": "completed"
    },
    "tags": []
   },
   "outputs": [],
   "source": [
    "train.keyword.fillna('', inplace=True)\n",
    "# train[\"text\"] = train[\"keyword\"].astype(str) + ' ' + train[\"text\"]"
   ]
  },
  {
   "cell_type": "markdown",
   "id": "cc488241",
   "metadata": {
    "papermill": {
     "duration": 0.017177,
     "end_time": "2022-09-09T08:13:22.258914",
     "exception": false,
     "start_time": "2022-09-09T08:13:22.241737",
     "status": "completed"
    },
    "tags": []
   },
   "source": [
    "Clean and remove stopwords"
   ]
  },
  {
   "cell_type": "code",
   "execution_count": 7,
   "id": "890d8eb0",
   "metadata": {
    "execution": {
     "iopub.execute_input": "2022-09-09T08:13:22.293087Z",
     "iopub.status.busy": "2022-09-09T08:13:22.292762Z",
     "iopub.status.idle": "2022-09-09T08:13:22.302486Z",
     "shell.execute_reply": "2022-09-09T08:13:22.301319Z"
    },
    "papermill": {
     "duration": 0.030257,
     "end_time": "2022-09-09T08:13:22.305736",
     "exception": false,
     "start_time": "2022-09-09T08:13:22.275479",
     "status": "completed"
    },
    "tags": []
   },
   "outputs": [],
   "source": [
    "def process(text):\n",
    "    # lowercase\n",
    "    text = text.lower()\n",
    "    # remove numbers\n",
    "    text = re.sub(r'\\d+', ' ', text)\n",
    "    # remove extra whitespaces\n",
    "    pattern = r'^\\s*|\\s\\s*'\n",
    "    text = re.sub(pattern, ' ', text).strip()\n",
    "    \n",
    "#     # expand contractions\n",
    "#     text = contractions.fix(text)\n",
    "#     # remove urls\n",
    "#     text = re.sub('https?://\\S+|www\\.\\S+', ' ', text)\n",
    "#     # remove HTML tags\n",
    "#     html = re.compile(r\"<.*?>|&([a-z0-9]+|#[0-9]{1,6}|#x[0-9a-f]{1,6});\")\n",
    "#     text = re.sub(html, ' ', text)\n",
    "#     # remove irrelevant characters - punctuations and numbers\n",
    "#     #text = re.sub(r'[^a-zA-Z]', ' ', text)\n",
    "#     # remove punctuations\n",
    "#     #table = str.maketrans('','',string.punctuation)\n",
    "#     #text = text.translate(table)\n",
    "#     text = re.sub('['+string.punctuation+']', ' ', text)\n",
    "\n",
    "#     # remove non-ASCII characters\n",
    "#     text = re.sub(r'[^\\x00-\\x7f]',r' ', text)\n",
    "#     # remove newline \\n\n",
    "#     text = re.sub('\\n', ' ', text)\n",
    "    \n",
    "    \n",
    "    return text"
   ]
  },
  {
   "cell_type": "code",
   "execution_count": 8,
   "id": "0aff165e",
   "metadata": {
    "execution": {
     "iopub.execute_input": "2022-09-09T08:13:22.343214Z",
     "iopub.status.busy": "2022-09-09T08:13:22.342773Z",
     "iopub.status.idle": "2022-09-09T08:13:22.350440Z",
     "shell.execute_reply": "2022-09-09T08:13:22.348059Z"
    },
    "papermill": {
     "duration": 0.037418,
     "end_time": "2022-09-09T08:13:22.359360",
     "exception": false,
     "start_time": "2022-09-09T08:13:22.321942",
     "status": "completed"
    },
    "tags": []
   },
   "outputs": [],
   "source": [
    "# df = pd.concat([train, test])\n",
    "# df['text'] = df['text'].apply(lambda x: process(x))\n",
    "# train = df[:7613]\n",
    "# test = df[7613:]\n",
    "# test = test.drop('target', axis=1)"
   ]
  },
  {
   "cell_type": "code",
   "execution_count": 9,
   "id": "f7e0908a",
   "metadata": {
    "execution": {
     "iopub.execute_input": "2022-09-09T08:13:22.404592Z",
     "iopub.status.busy": "2022-09-09T08:13:22.403790Z",
     "iopub.status.idle": "2022-09-09T08:13:22.425200Z",
     "shell.execute_reply": "2022-09-09T08:13:22.424164Z"
    },
    "papermill": {
     "duration": 0.049923,
     "end_time": "2022-09-09T08:13:22.427272",
     "exception": false,
     "start_time": "2022-09-09T08:13:22.377349",
     "status": "completed"
    },
    "tags": []
   },
   "outputs": [
    {
     "data": {
      "text/html": [
       "<div>\n",
       "<style scoped>\n",
       "    .dataframe tbody tr th:only-of-type {\n",
       "        vertical-align: middle;\n",
       "    }\n",
       "\n",
       "    .dataframe tbody tr th {\n",
       "        vertical-align: top;\n",
       "    }\n",
       "\n",
       "    .dataframe thead th {\n",
       "        text-align: right;\n",
       "    }\n",
       "</style>\n",
       "<table border=\"1\" class=\"dataframe\">\n",
       "  <thead>\n",
       "    <tr style=\"text-align: right;\">\n",
       "      <th></th>\n",
       "      <th>id</th>\n",
       "      <th>keyword</th>\n",
       "      <th>location</th>\n",
       "      <th>text</th>\n",
       "      <th>target</th>\n",
       "    </tr>\n",
       "  </thead>\n",
       "  <tbody>\n",
       "    <tr>\n",
       "      <th>7608</th>\n",
       "      <td>10869</td>\n",
       "      <td></td>\n",
       "      <td>NaN</td>\n",
       "      <td>Two giant cranes holding a bridge collapse into nearby homes http://t.co/STfMbbZFB5</td>\n",
       "      <td>1</td>\n",
       "    </tr>\n",
       "    <tr>\n",
       "      <th>7609</th>\n",
       "      <td>10870</td>\n",
       "      <td></td>\n",
       "      <td>NaN</td>\n",
       "      <td>@aria_ahrary @TheTawniest The out of control wild fires in California even in the Northern part of the state. Very troubling.</td>\n",
       "      <td>1</td>\n",
       "    </tr>\n",
       "    <tr>\n",
       "      <th>7610</th>\n",
       "      <td>10871</td>\n",
       "      <td></td>\n",
       "      <td>NaN</td>\n",
       "      <td>M1.94 [01:04 UTC]?5km S of Volcano Hawaii. http://t.co/zDtoyd8EbJ</td>\n",
       "      <td>1</td>\n",
       "    </tr>\n",
       "    <tr>\n",
       "      <th>7611</th>\n",
       "      <td>10872</td>\n",
       "      <td></td>\n",
       "      <td>NaN</td>\n",
       "      <td>Police investigating after an e-bike collided with a car in Little Portugal. E-bike rider suffered serious non-life threatening injuries.</td>\n",
       "      <td>1</td>\n",
       "    </tr>\n",
       "    <tr>\n",
       "      <th>7612</th>\n",
       "      <td>10873</td>\n",
       "      <td></td>\n",
       "      <td>NaN</td>\n",
       "      <td>The Latest: More Homes Razed by Northern California Wildfire - ABC News http://t.co/YmY4rSkQ3d</td>\n",
       "      <td>1</td>\n",
       "    </tr>\n",
       "  </tbody>\n",
       "</table>\n",
       "</div>"
      ],
      "text/plain": [
       "         id keyword location  \\\n",
       "7608  10869              NaN   \n",
       "7609  10870              NaN   \n",
       "7610  10871              NaN   \n",
       "7611  10872              NaN   \n",
       "7612  10873              NaN   \n",
       "\n",
       "                                                                                                                                           text  \\\n",
       "7608                                                        Two giant cranes holding a bridge collapse into nearby homes http://t.co/STfMbbZFB5   \n",
       "7609              @aria_ahrary @TheTawniest The out of control wild fires in California even in the Northern part of the state. Very troubling.   \n",
       "7610                                                                          M1.94 [01:04 UTC]?5km S of Volcano Hawaii. http://t.co/zDtoyd8EbJ   \n",
       "7611  Police investigating after an e-bike collided with a car in Little Portugal. E-bike rider suffered serious non-life threatening injuries.   \n",
       "7612                                             The Latest: More Homes Razed by Northern California Wildfire - ABC News http://t.co/YmY4rSkQ3d   \n",
       "\n",
       "      target  \n",
       "7608       1  \n",
       "7609       1  \n",
       "7610       1  \n",
       "7611       1  \n",
       "7612       1  "
      ]
     },
     "execution_count": 9,
     "metadata": {},
     "output_type": "execute_result"
    }
   ],
   "source": [
    "train.tail()"
   ]
  },
  {
   "cell_type": "code",
   "execution_count": 10,
   "id": "8c915288",
   "metadata": {
    "execution": {
     "iopub.execute_input": "2022-09-09T08:13:22.457554Z",
     "iopub.status.busy": "2022-09-09T08:13:22.457127Z",
     "iopub.status.idle": "2022-09-09T08:13:22.469921Z",
     "shell.execute_reply": "2022-09-09T08:13:22.468891Z"
    },
    "papermill": {
     "duration": 0.030852,
     "end_time": "2022-09-09T08:13:22.472405",
     "exception": false,
     "start_time": "2022-09-09T08:13:22.441553",
     "status": "completed"
    },
    "tags": []
   },
   "outputs": [
    {
     "data": {
      "text/html": [
       "<div>\n",
       "<style scoped>\n",
       "    .dataframe tbody tr th:only-of-type {\n",
       "        vertical-align: middle;\n",
       "    }\n",
       "\n",
       "    .dataframe tbody tr th {\n",
       "        vertical-align: top;\n",
       "    }\n",
       "\n",
       "    .dataframe thead th {\n",
       "        text-align: right;\n",
       "    }\n",
       "</style>\n",
       "<table border=\"1\" class=\"dataframe\">\n",
       "  <thead>\n",
       "    <tr style=\"text-align: right;\">\n",
       "      <th></th>\n",
       "      <th>id</th>\n",
       "      <th>keyword</th>\n",
       "      <th>location</th>\n",
       "      <th>text</th>\n",
       "    </tr>\n",
       "  </thead>\n",
       "  <tbody>\n",
       "    <tr>\n",
       "      <th>0</th>\n",
       "      <td>0</td>\n",
       "      <td>NaN</td>\n",
       "      <td>NaN</td>\n",
       "      <td>Just happened a terrible car crash</td>\n",
       "    </tr>\n",
       "    <tr>\n",
       "      <th>1</th>\n",
       "      <td>2</td>\n",
       "      <td>NaN</td>\n",
       "      <td>NaN</td>\n",
       "      <td>Heard about #earthquake is different cities, stay safe everyone.</td>\n",
       "    </tr>\n",
       "    <tr>\n",
       "      <th>2</th>\n",
       "      <td>3</td>\n",
       "      <td>NaN</td>\n",
       "      <td>NaN</td>\n",
       "      <td>there is a forest fire at spot pond, geese are fleeing across the street, I cannot save them all</td>\n",
       "    </tr>\n",
       "    <tr>\n",
       "      <th>3</th>\n",
       "      <td>9</td>\n",
       "      <td>NaN</td>\n",
       "      <td>NaN</td>\n",
       "      <td>Apocalypse lighting. #Spokane #wildfires</td>\n",
       "    </tr>\n",
       "    <tr>\n",
       "      <th>4</th>\n",
       "      <td>11</td>\n",
       "      <td>NaN</td>\n",
       "      <td>NaN</td>\n",
       "      <td>Typhoon Soudelor kills 28 in China and Taiwan</td>\n",
       "    </tr>\n",
       "  </tbody>\n",
       "</table>\n",
       "</div>"
      ],
      "text/plain": [
       "   id keyword location  \\\n",
       "0   0     NaN      NaN   \n",
       "1   2     NaN      NaN   \n",
       "2   3     NaN      NaN   \n",
       "3   9     NaN      NaN   \n",
       "4  11     NaN      NaN   \n",
       "\n",
       "                                                                                               text  \n",
       "0                                                                Just happened a terrible car crash  \n",
       "1                                  Heard about #earthquake is different cities, stay safe everyone.  \n",
       "2  there is a forest fire at spot pond, geese are fleeing across the street, I cannot save them all  \n",
       "3                                                          Apocalypse lighting. #Spokane #wildfires  \n",
       "4                                                     Typhoon Soudelor kills 28 in China and Taiwan  "
      ]
     },
     "execution_count": 10,
     "metadata": {},
     "output_type": "execute_result"
    }
   ],
   "source": [
    "test.head()"
   ]
  },
  {
   "cell_type": "markdown",
   "id": "9e0b7980",
   "metadata": {
    "papermill": {
     "duration": 0.013649,
     "end_time": "2022-09-09T08:13:22.500374",
     "exception": false,
     "start_time": "2022-09-09T08:13:22.486725",
     "status": "completed"
    },
    "tags": []
   },
   "source": [
    "Relabel for duplicates with different target"
   ]
  },
  {
   "cell_type": "code",
   "execution_count": 11,
   "id": "b78273db",
   "metadata": {
    "execution": {
     "iopub.execute_input": "2022-09-09T08:13:22.530452Z",
     "iopub.status.busy": "2022-09-09T08:13:22.529761Z",
     "iopub.status.idle": "2022-09-09T08:13:23.589028Z",
     "shell.execute_reply": "2022-09-09T08:13:23.588030Z"
    },
    "papermill": {
     "duration": 1.076847,
     "end_time": "2022-09-09T08:13:23.591153",
     "exception": false,
     "start_time": "2022-09-09T08:13:22.514306",
     "status": "completed"
    },
    "tags": []
   },
   "outputs": [
    {
     "data": {
      "text/html": [
       "<div>\n",
       "<style scoped>\n",
       "    .dataframe tbody tr th:only-of-type {\n",
       "        vertical-align: middle;\n",
       "    }\n",
       "\n",
       "    .dataframe tbody tr th {\n",
       "        vertical-align: top;\n",
       "    }\n",
       "\n",
       "    .dataframe thead th {\n",
       "        text-align: right;\n",
       "    }\n",
       "</style>\n",
       "<table border=\"1\" class=\"dataframe\">\n",
       "  <thead>\n",
       "    <tr style=\"text-align: right;\">\n",
       "      <th></th>\n",
       "      <th>id</th>\n",
       "      <th>keyword</th>\n",
       "      <th>location</th>\n",
       "      <th>text</th>\n",
       "      <th>target</th>\n",
       "    </tr>\n",
       "  </thead>\n",
       "  <tbody>\n",
       "  </tbody>\n",
       "</table>\n",
       "</div>"
      ],
      "text/plain": [
       "Empty DataFrame\n",
       "Columns: [id, keyword, location, text, target]\n",
       "Index: []"
      ]
     },
     "execution_count": 11,
     "metadata": {},
     "output_type": "execute_result"
    }
   ],
   "source": [
    "duplicates = train.groupby('text').filter(lambda x: x['target'].nunique()>1 ).sort_values('text')\n",
    "duplicates"
   ]
  },
  {
   "cell_type": "code",
   "execution_count": 12,
   "id": "a5bdb82a",
   "metadata": {
    "execution": {
     "iopub.execute_input": "2022-09-09T08:13:23.611553Z",
     "iopub.status.busy": "2022-09-09T08:13:23.611257Z",
     "iopub.status.idle": "2022-09-09T08:13:23.615705Z",
     "shell.execute_reply": "2022-09-09T08:13:23.614613Z"
    },
    "papermill": {
     "duration": 0.01729,
     "end_time": "2022-09-09T08:13:23.618192",
     "exception": false,
     "start_time": "2022-09-09T08:13:23.600902",
     "status": "completed"
    },
    "tags": []
   },
   "outputs": [],
   "source": [
    "# train = train.drop_duplicates(subset=['text'], keep=False)"
   ]
  },
  {
   "cell_type": "code",
   "execution_count": 13,
   "id": "21a4c02a",
   "metadata": {
    "execution": {
     "iopub.execute_input": "2022-09-09T08:13:23.639507Z",
     "iopub.status.busy": "2022-09-09T08:13:23.639209Z",
     "iopub.status.idle": "2022-09-09T08:13:23.643612Z",
     "shell.execute_reply": "2022-09-09T08:13:23.642512Z"
    },
    "papermill": {
     "duration": 0.018207,
     "end_time": "2022-09-09T08:13:23.646065",
     "exception": false,
     "start_time": "2022-09-09T08:13:23.627858",
     "status": "completed"
    },
    "tags": []
   },
   "outputs": [],
   "source": [
    "# mislabeled = train.groupby(['text']).nunique().sort_values(by='target', ascending=False)\n",
    "# mislabeled = mislabeled[mislabeled['target'] > 1]['target']\n",
    "# mislabeled.index.tolist()"
   ]
  },
  {
   "cell_type": "code",
   "execution_count": 14,
   "id": "b8d92123",
   "metadata": {
    "execution": {
     "iopub.execute_input": "2022-09-09T08:13:23.667055Z",
     "iopub.status.busy": "2022-09-09T08:13:23.666776Z",
     "iopub.status.idle": "2022-09-09T08:13:23.671951Z",
     "shell.execute_reply": "2022-09-09T08:13:23.670869Z"
    },
    "papermill": {
     "duration": 0.018183,
     "end_time": "2022-09-09T08:13:23.674175",
     "exception": false,
     "start_time": "2022-09-09T08:13:23.655992",
     "status": "completed"
    },
    "tags": []
   },
   "outputs": [],
   "source": [
    "# train.loc[train['text'] == 'that horrible sinking feeling when you\\x89ûªve been at home on your phone for a while and you realise its been on g this whole time', 'target'] = 0\n",
    "# train.loc[train['text'] == 'one direction is my pick for http://t.co/q eblokeve fan army #directioners http://t.co/encmhz y x', 'target'] = 0"
   ]
  },
  {
   "cell_type": "code",
   "execution_count": 15,
   "id": "094e3335",
   "metadata": {
    "execution": {
     "iopub.execute_input": "2022-09-09T08:13:23.695508Z",
     "iopub.status.busy": "2022-09-09T08:13:23.695237Z",
     "iopub.status.idle": "2022-09-09T08:13:24.631113Z",
     "shell.execute_reply": "2022-09-09T08:13:24.630135Z"
    },
    "papermill": {
     "duration": 0.949227,
     "end_time": "2022-09-09T08:13:24.633290",
     "exception": false,
     "start_time": "2022-09-09T08:13:23.684063",
     "status": "completed"
    },
    "tags": []
   },
   "outputs": [
    {
     "data": {
      "text/html": [
       "<div>\n",
       "<style scoped>\n",
       "    .dataframe tbody tr th:only-of-type {\n",
       "        vertical-align: middle;\n",
       "    }\n",
       "\n",
       "    .dataframe tbody tr th {\n",
       "        vertical-align: top;\n",
       "    }\n",
       "\n",
       "    .dataframe thead th {\n",
       "        text-align: right;\n",
       "    }\n",
       "</style>\n",
       "<table border=\"1\" class=\"dataframe\">\n",
       "  <thead>\n",
       "    <tr style=\"text-align: right;\">\n",
       "      <th></th>\n",
       "      <th>id</th>\n",
       "      <th>keyword</th>\n",
       "      <th>location</th>\n",
       "      <th>text</th>\n",
       "      <th>target</th>\n",
       "    </tr>\n",
       "  </thead>\n",
       "  <tbody>\n",
       "  </tbody>\n",
       "</table>\n",
       "</div>"
      ],
      "text/plain": [
       "Empty DataFrame\n",
       "Columns: [id, keyword, location, text, target]\n",
       "Index: []"
      ]
     },
     "execution_count": 15,
     "metadata": {},
     "output_type": "execute_result"
    }
   ],
   "source": [
    "duplicates = train.groupby('text').filter(lambda x: x['target'].nunique()>1 ).sort_values('text')\n",
    "duplicates"
   ]
  },
  {
   "cell_type": "markdown",
   "id": "88354995",
   "metadata": {
    "papermill": {
     "duration": 0.009303,
     "end_time": "2022-09-09T08:13:24.652460",
     "exception": false,
     "start_time": "2022-09-09T08:13:24.643157",
     "status": "completed"
    },
    "tags": []
   },
   "source": [
    "# K-Fold Cross Validation"
   ]
  },
  {
   "cell_type": "code",
   "execution_count": 16,
   "id": "380b2382",
   "metadata": {
    "execution": {
     "iopub.execute_input": "2022-09-09T08:13:24.672698Z",
     "iopub.status.busy": "2022-09-09T08:13:24.672361Z",
     "iopub.status.idle": "2022-09-09T08:13:24.677179Z",
     "shell.execute_reply": "2022-09-09T08:13:24.676082Z"
    },
    "papermill": {
     "duration": 0.017201,
     "end_time": "2022-09-09T08:13:24.679207",
     "exception": false,
     "start_time": "2022-09-09T08:13:24.662006",
     "status": "completed"
    },
    "tags": []
   },
   "outputs": [],
   "source": [
    "kf = StratifiedKFold(n_splits=5, random_state=1337, shuffle=True)"
   ]
  },
  {
   "cell_type": "markdown",
   "id": "b50e6f28",
   "metadata": {
    "papermill": {
     "duration": 0.012567,
     "end_time": "2022-09-09T08:13:24.701046",
     "exception": false,
     "start_time": "2022-09-09T08:13:24.688479",
     "status": "completed"
    },
    "tags": []
   },
   "source": [
    "# Load BERT and encode text"
   ]
  },
  {
   "cell_type": "code",
   "execution_count": 17,
   "id": "6f2abcd0",
   "metadata": {
    "execution": {
     "iopub.execute_input": "2022-09-09T08:13:24.722440Z",
     "iopub.status.busy": "2022-09-09T08:13:24.722171Z",
     "iopub.status.idle": "2022-09-09T08:13:24.735616Z",
     "shell.execute_reply": "2022-09-09T08:13:24.734668Z"
    },
    "papermill": {
     "duration": 0.026221,
     "end_time": "2022-09-09T08:13:24.737590",
     "exception": false,
     "start_time": "2022-09-09T08:13:24.711369",
     "status": "completed"
    },
    "tags": []
   },
   "outputs": [],
   "source": [
    "def get_bert_layer():\n",
    "    m_url = 'https://tfhub.dev/tensorflow/bert_en_uncased_L-12_H-768_A-12/2'\n",
    "    bert_layer = hub.KerasLayer(m_url, trainable=True)\n",
    "\n",
    "    vocab_file = bert_layer.resolved_object.vocab_file.asset_path.numpy()\n",
    "    do_lower_case = bert_layer.resolved_object.do_lower_case.numpy()\n",
    "    tokenizer = bert_tokenization.FullTokenizer(vocab_file, do_lower_case)\n",
    "    \n",
    "    return bert_layer, tokenizer\n",
    "\n",
    "def bert_encode(texts, tokenizer, max_len=512):\n",
    "    all_tokens = []\n",
    "    all_masks = []\n",
    "    all_segments = []\n",
    "    \n",
    "    for text in texts:\n",
    "        text = tokenizer.tokenize(text)\n",
    "            \n",
    "        text = text[:max_len-2]\n",
    "        input_sequence = [\"[CLS]\"] + text + [\"[SEP]\"]\n",
    "        pad_len = max_len - len(input_sequence)\n",
    "        \n",
    "        tokens = tokenizer.convert_tokens_to_ids(input_sequence)\n",
    "        tokens += [0] * pad_len\n",
    "        pad_masks = [1] * len(input_sequence) + [0] * pad_len\n",
    "        segment_ids = [0] * max_len\n",
    "        \n",
    "        all_tokens.append(tokens)\n",
    "        all_masks.append(pad_masks)\n",
    "        all_segments.append(segment_ids)\n",
    "    \n",
    "    return np.array(all_tokens), np.array(all_masks), np.array(all_segments)\n",
    "\n",
    "def build_model(bert_layer, max_len=512):\n",
    "    input_word_ids = tf.keras.layers.Input(shape=(max_len,), dtype=tf.int32, name=\"input_word_ids\")\n",
    "    input_mask = tf.keras.layers.Input(shape=(max_len,), dtype=tf.int32, name=\"input_mask\")\n",
    "    segment_ids = tf.keras.layers.Input(shape=(max_len,), dtype=tf.int32, name=\"segment_ids\")\n",
    "\n",
    "    _, sequence_output = bert_layer([input_word_ids, input_mask, segment_ids])\n",
    "    clf_output = sequence_output[:, 0, :]\n",
    "    x = tf.keras.layers.Dropout(0.4)(clf_output)\n",
    "    out = tf.keras.layers.Dense(1, activation='sigmoid')(x)\n",
    "    \n",
    "#     out = tf.keras.layers.Dense(1, activation='sigmoid')(clf_output)\n",
    "    \n",
    "#     x = tf.keras.layers.Dense(6, activation='relu', kernel_regularizer=tf.keras.regularizers.l2(0.001))(clf_output)\n",
    "#     x = tf.keras.layers.Dropout(0.5)(x)\n",
    "#     out = tf.keras.layers.Dense(1, activation='sigmoid')(x)\n",
    "    \n",
    "    model = tf.keras.Model(inputs=[input_word_ids, input_mask, segment_ids], outputs=out)\n",
    "    model.compile(tf.keras.optimizers.Adam(learning_rate=1e-5), loss='binary_crossentropy', metrics=['accuracy'])\n",
    "#     model.compile(tf.keras.optimizers.Adam(learning_rate=1e-5), loss='binary_crossentropy',\n",
    "#                   metrics=['accuracy', tfa.metrics.F1Score(1, threshold=0.5)])\n",
    "    \n",
    "    return model"
   ]
  },
  {
   "cell_type": "markdown",
   "id": "7afa5610",
   "metadata": {
    "papermill": {
     "duration": 0.009209,
     "end_time": "2022-09-09T08:13:24.756032",
     "exception": false,
     "start_time": "2022-09-09T08:13:24.746823",
     "status": "completed"
    },
    "tags": []
   },
   "source": [
    "# Model"
   ]
  },
  {
   "cell_type": "code",
   "execution_count": 18,
   "id": "5c5c95fd",
   "metadata": {
    "execution": {
     "iopub.execute_input": "2022-09-09T08:13:24.776666Z",
     "iopub.status.busy": "2022-09-09T08:13:24.775894Z",
     "iopub.status.idle": "2022-09-09T08:42:41.444579Z",
     "shell.execute_reply": "2022-09-09T08:42:41.443168Z"
    },
    "papermill": {
     "duration": 1756.681143,
     "end_time": "2022-09-09T08:42:41.446794",
     "exception": false,
     "start_time": "2022-09-09T08:13:24.765651",
     "status": "completed"
    },
    "tags": []
   },
   "outputs": [
    {
     "name": "stdout",
     "output_type": "stream",
     "text": [
      "\n",
      "Fold 0\n",
      "\n",
      "Epoch 1/10\n",
      "191/191 [==============================] - 64s 266ms/step - loss: 0.4875 - accuracy: 0.7662 - val_loss: 0.4033 - val_accuracy: 0.8332\n",
      "\n",
      "Epoch 00001: val_accuracy improved from -inf to 0.83322, saving model to model_0.h5\n",
      "Epoch 2/10\n",
      "191/191 [==============================] - 50s 263ms/step - loss: 0.3580 - accuracy: 0.8498 - val_loss: 0.3955 - val_accuracy: 0.8411\n",
      "\n",
      "Epoch 00002: val_accuracy improved from 0.83322 to 0.84110, saving model to model_0.h5\n",
      "Epoch 3/10\n",
      "191/191 [==============================] - 50s 263ms/step - loss: 0.2934 - accuracy: 0.8824 - val_loss: 0.4033 - val_accuracy: 0.8424\n",
      "\n",
      "Epoch 00003: val_accuracy improved from 0.84110 to 0.84242, saving model to model_0.h5\n",
      "Epoch 4/10\n",
      "191/191 [==============================] - 50s 263ms/step - loss: 0.2458 - accuracy: 0.9074 - val_loss: 0.4356 - val_accuracy: 0.8365\n",
      "\n",
      "Epoch 00004: val_accuracy did not improve from 0.84242\n",
      "Epoch 5/10\n",
      "191/191 [==============================] - 50s 263ms/step - loss: 0.1879 - accuracy: 0.9300 - val_loss: 0.5126 - val_accuracy: 0.8326\n",
      "\n",
      "Epoch 00005: val_accuracy did not improve from 0.84242\n",
      "\n",
      "Epoch 00005: ReduceLROnPlateau reducing learning rate to 1.9999999494757505e-06.\n",
      "Epoch 6/10\n",
      "191/191 [==============================] - 50s 263ms/step - loss: 0.1189 - accuracy: 0.9563 - val_loss: 0.5953 - val_accuracy: 0.8240\n",
      "\n",
      "Epoch 00006: val_accuracy did not improve from 0.84242\n",
      "Epoch 7/10\n",
      "191/191 [==============================] - 50s 262ms/step - loss: 0.1057 - accuracy: 0.9635 - val_loss: 0.6581 - val_accuracy: 0.8129\n",
      "\n",
      "Epoch 00007: val_accuracy did not improve from 0.84242\n",
      "\n",
      "Epoch 00007: ReduceLROnPlateau reducing learning rate to 3.999999989900971e-07.\n",
      "Epoch 00007: early stopping\n"
     ]
    },
    {
     "data": {
      "image/png": "[encoded data removed]",
      "text/plain": [
       "<Figure size 432x288 with 1 Axes>"
      ]
     },
     "metadata": {
      "needs_background": "light"
     },
     "output_type": "display_data"
    },
    {
     "data": {
      "image/png": "[encoded data removed]",
      "text/plain": [
       "<Figure size 432x288 with 1 Axes>"
      ]
     },
     "metadata": {
      "needs_background": "light"
     },
     "output_type": "display_data"
    },
    {
     "name": "stdout",
     "output_type": "stream",
     "text": [
      "\n",
      "Fold 1\n",
      "\n",
      "Epoch 1/10\n",
      "191/191 [==============================] - 63s 266ms/step - loss: 0.4694 - accuracy: 0.7808 - val_loss: 0.4030 - val_accuracy: 0.8253\n",
      "\n",
      "Epoch 00001: val_accuracy improved from -inf to 0.82534, saving model to model_1.h5\n",
      "Epoch 2/10\n",
      "191/191 [==============================] - 50s 264ms/step - loss: 0.3487 - accuracy: 0.8604 - val_loss: 0.3903 - val_accuracy: 0.8293\n",
      "\n",
      "Epoch 00002: val_accuracy improved from 0.82534 to 0.82928, saving model to model_1.h5\n",
      "Epoch 3/10\n",
      "191/191 [==============================] - 50s 262ms/step - loss: 0.2851 - accuracy: 0.8913 - val_loss: 0.4481 - val_accuracy: 0.8227\n",
      "\n",
      "Epoch 00003: val_accuracy did not improve from 0.82928\n",
      "Epoch 4/10\n",
      "191/191 [==============================] - 50s 262ms/step - loss: 0.2290 - accuracy: 0.9166 - val_loss: 0.4628 - val_accuracy: 0.8201\n",
      "\n",
      "Epoch 00004: val_accuracy did not improve from 0.82928\n",
      "\n",
      "Epoch 00004: ReduceLROnPlateau reducing learning rate to 1.9999999494757505e-06.\n",
      "Epoch 5/10\n",
      "191/191 [==============================] - 50s 262ms/step - loss: 0.1724 - accuracy: 0.9424 - val_loss: 0.5628 - val_accuracy: 0.8142\n",
      "\n",
      "Epoch 00005: val_accuracy did not improve from 0.82928\n",
      "Epoch 6/10\n",
      "191/191 [==============================] - 50s 262ms/step - loss: 0.1501 - accuracy: 0.9476 - val_loss: 0.5676 - val_accuracy: 0.8116\n",
      "\n",
      "Epoch 00006: val_accuracy did not improve from 0.82928\n",
      "\n",
      "Epoch 00006: ReduceLROnPlateau reducing learning rate to 3.999999989900971e-07.\n",
      "Epoch 00006: early stopping\n"
     ]
    },
    {
     "data": {
      "image/png": "[encoded data removed]",
      "text/plain": [
       "<Figure size 432x288 with 1 Axes>"
      ]
     },
     "metadata": {
      "needs_background": "light"
     },
     "output_type": "display_data"
    },
    {
     "data": {
      "image/png": "[encoded data removed]",
      "text/plain": [
       "<Figure size 432x288 with 1 Axes>"
      ]
     },
     "metadata": {
      "needs_background": "light"
     },
     "output_type": "display_data"
    },
    {
     "name": "stdout",
     "output_type": "stream",
     "text": [
      "\n",
      "Fold 2\n",
      "\n",
      "Epoch 1/10\n",
      "191/191 [==============================] - 62s 266ms/step - loss: 0.4859 - accuracy: 0.7644 - val_loss: 0.3676 - val_accuracy: 0.8523\n",
      "\n",
      "Epoch 00001: val_accuracy improved from -inf to 0.85227, saving model to model_2.h5\n",
      "Epoch 2/10\n",
      "191/191 [==============================] - 50s 263ms/step - loss: 0.3557 - accuracy: 0.8530 - val_loss: 0.3649 - val_accuracy: 0.8569\n",
      "\n",
      "Epoch 00002: val_accuracy improved from 0.85227 to 0.85686, saving model to model_2.h5\n",
      "Epoch 3/10\n",
      "191/191 [==============================] - 50s 263ms/step - loss: 0.2850 - accuracy: 0.8921 - val_loss: 0.4042 - val_accuracy: 0.8293\n",
      "\n",
      "Epoch 00003: val_accuracy did not improve from 0.85686\n",
      "Epoch 4/10\n",
      "191/191 [==============================] - 50s 263ms/step - loss: 0.2272 - accuracy: 0.9108 - val_loss: 0.4472 - val_accuracy: 0.8437\n",
      "\n",
      "Epoch 00004: val_accuracy did not improve from 0.85686\n",
      "\n",
      "Epoch 00004: ReduceLROnPlateau reducing learning rate to 1.9999999494757505e-06.\n",
      "Epoch 5/10\n",
      "191/191 [==============================] - 50s 262ms/step - loss: 0.1540 - accuracy: 0.9458 - val_loss: 0.5166 - val_accuracy: 0.8332\n",
      "\n",
      "Epoch 00005: val_accuracy did not improve from 0.85686\n",
      "Epoch 6/10\n",
      "191/191 [==============================] - 50s 262ms/step - loss: 0.1328 - accuracy: 0.9516 - val_loss: 0.5807 - val_accuracy: 0.8260\n",
      "\n",
      "Epoch 00006: val_accuracy did not improve from 0.85686\n",
      "\n",
      "Epoch 00006: ReduceLROnPlateau reducing learning rate to 3.999999989900971e-07.\n",
      "Epoch 00006: early stopping\n"
     ]
    },
    {
     "data": {
      "image/png": "[encoded data removed]",
      "text/plain": [
       "<Figure size 432x288 with 1 Axes>"
      ]
     },
     "metadata": {
      "needs_background": "light"
     },
     "output_type": "display_data"
    },
    {
     "data": {
      "image/png": "[encoded data removed]",
      "text/plain": [
       "<Figure size 432x288 with 1 Axes>"
      ]
     },
     "metadata": {
      "needs_background": "light"
     },
     "output_type": "display_data"
    },
    {
     "name": "stdout",
     "output_type": "stream",
     "text": [
      "\n",
      "Fold 3\n",
      "\n",
      "Epoch 1/10\n",
      "191/191 [==============================] - 63s 266ms/step - loss: 0.4674 - accuracy: 0.7903 - val_loss: 0.4040 - val_accuracy: 0.8226\n",
      "\n",
      "Epoch 00001: val_accuracy improved from -inf to 0.82260, saving model to model_3.h5\n",
      "Epoch 2/10\n",
      "191/191 [==============================] - 50s 263ms/step - loss: 0.3532 - accuracy: 0.8577 - val_loss: 0.4028 - val_accuracy: 0.8384\n",
      "\n",
      "Epoch 00002: val_accuracy improved from 0.82260 to 0.83837, saving model to model_3.h5\n",
      "Epoch 3/10\n",
      "191/191 [==============================] - 50s 263ms/step - loss: 0.2948 - accuracy: 0.8823 - val_loss: 0.4517 - val_accuracy: 0.8279\n",
      "\n",
      "Epoch 00003: val_accuracy did not improve from 0.83837\n",
      "Epoch 4/10\n",
      "191/191 [==============================] - 50s 263ms/step - loss: 0.2350 - accuracy: 0.9105 - val_loss: 0.5131 - val_accuracy: 0.8318\n",
      "\n",
      "Epoch 00004: val_accuracy did not improve from 0.83837\n",
      "\n",
      "Epoch 00004: ReduceLROnPlateau reducing learning rate to 1.9999999494757505e-06.\n",
      "Epoch 5/10\n",
      "191/191 [==============================] - 50s 263ms/step - loss: 0.1610 - accuracy: 0.9429 - val_loss: 0.5756 - val_accuracy: 0.8279\n",
      "\n",
      "Epoch 00005: val_accuracy did not improve from 0.83837\n",
      "Epoch 6/10\n",
      "191/191 [==============================] - 50s 263ms/step - loss: 0.1393 - accuracy: 0.9499 - val_loss: 0.6004 - val_accuracy: 0.8285\n",
      "\n",
      "Epoch 00006: val_accuracy did not improve from 0.83837\n",
      "\n",
      "Epoch 00006: ReduceLROnPlateau reducing learning rate to 3.999999989900971e-07.\n",
      "Epoch 00006: early stopping\n"
     ]
    },
    {
     "data": {
      "image/png": "[encoded data removed]",
      "text/plain": [
       "<Figure size 432x288 with 1 Axes>"
      ]
     },
     "metadata": {
      "needs_background": "light"
     },
     "output_type": "display_data"
    },
    {
     "data": {
      "image/png": "[encoded data removed]",
      "text/plain": [
       "<Figure size 432x288 with 1 Axes>"
      ]
     },
     "metadata": {
      "needs_background": "light"
     },
     "output_type": "display_data"
    },
    {
     "name": "stdout",
     "output_type": "stream",
     "text": [
      "\n",
      "Fold 4\n",
      "\n",
      "Epoch 1/10\n",
      "191/191 [==============================] - 63s 267ms/step - loss: 0.4998 - accuracy: 0.7651 - val_loss: 0.3617 - val_accuracy: 0.8476\n",
      "\n",
      "Epoch 00001: val_accuracy improved from -inf to 0.84757, saving model to model_4.h5\n",
      "Epoch 2/10\n",
      "191/191 [==============================] - 50s 263ms/step - loss: 0.3674 - accuracy: 0.8488 - val_loss: 0.3476 - val_accuracy: 0.8555\n",
      "\n",
      "Epoch 00002: val_accuracy improved from 0.84757 to 0.85545, saving model to model_4.h5\n",
      "Epoch 3/10\n",
      "191/191 [==============================] - 50s 264ms/step - loss: 0.3086 - accuracy: 0.8759 - val_loss: 0.3630 - val_accuracy: 0.8555\n",
      "\n",
      "Epoch 00003: val_accuracy did not improve from 0.85545\n",
      "Epoch 4/10\n",
      "191/191 [==============================] - 50s 263ms/step - loss: 0.2443 - accuracy: 0.9072 - val_loss: 0.4610 - val_accuracy: 0.8456\n",
      "\n",
      "Epoch 00004: val_accuracy did not improve from 0.85545\n",
      "\n",
      "Epoch 00004: ReduceLROnPlateau reducing learning rate to 1.9999999494757505e-06.\n",
      "Epoch 5/10\n",
      "191/191 [==============================] - 50s 263ms/step - loss: 0.1721 - accuracy: 0.9384 - val_loss: 0.4544 - val_accuracy: 0.8502\n",
      "\n",
      "Epoch 00005: val_accuracy did not improve from 0.85545\n",
      "Epoch 6/10\n",
      "191/191 [==============================] - 50s 263ms/step - loss: 0.1482 - accuracy: 0.9481 - val_loss: 0.5252 - val_accuracy: 0.8364\n",
      "\n",
      "Epoch 00006: val_accuracy did not improve from 0.85545\n",
      "\n",
      "Epoch 00006: ReduceLROnPlateau reducing learning rate to 3.999999989900971e-07.\n",
      "Epoch 00006: early stopping\n"
     ]
    },
    {
     "data": {
      "image/png": "[encoded data removed]",
      "text/plain": [
       "<Figure size 432x288 with 1 Axes>"
      ]
     },
     "metadata": {
      "needs_background": "light"
     },
     "output_type": "display_data"
    },
    {
     "data": {
      "image/png": "[encoded data removed]",
      "text/plain": [
       "<Figure size 432x288 with 1 Axes>"
      ]
     },
     "metadata": {
      "needs_background": "light"
     },
     "output_type": "display_data"
    },
    {
     "name": "stdout",
     "output_type": "stream",
     "text": [
      "Average Max Accuracy:  0.8444772005081177\n"
     ]
    }
   ],
   "source": [
    "accuracies = []\n",
    "# f1s = []\n",
    "models = []\n",
    "max_len = 64\n",
    "\n",
    "for fold, (train_index, val_index) in enumerate(kf.split(train.text.values, train.keyword.values)):\n",
    "    # stratifcation based on keyword\n",
    "    print('\\nFold {}\\n'.format(fold))\n",
    "    \n",
    "    train_df = train.iloc[train_index]\n",
    "    val_df = train.iloc[val_index]\n",
    "    \n",
    "    bert_layer, tokenizer = get_bert_layer()\n",
    "    x_train = bert_encode(train_df.text.values, tokenizer, max_len=max_len)\n",
    "    x_valid = bert_encode(val_df.text.values, tokenizer, max_len=max_len)\n",
    "    y_train = train_df.target.values\n",
    "    y_valid = val_df.target.values\n",
    "    \n",
    "    model = build_model(bert_layer, max_len=max_len)\n",
    "    \n",
    "    # val accuracy\n",
    "    checkpoint = tf.keras.callbacks.ModelCheckpoint(f'model_{fold}.h5', monitor='val_accuracy', save_best_only=True, verbose=1)\n",
    "    early_stopping = tf.keras.callbacks.EarlyStopping(monitor='val_accuracy', patience=4, verbose=1)\n",
    "    reduce_lr = tf.keras.callbacks.ReduceLROnPlateau(monitor='val_accuracy', patience=2, factor=0.2, verbose=1)\n",
    "    callbacks = [checkpoint, early_stopping, reduce_lr]\n",
    "#     # f1\n",
    "#     checkpoint = tf.keras.callbacks.ModelCheckpoint(f'model_{fold}.h5', monitor='val_f1_score', save_best_only=True, verbose=1)\n",
    "#     early_stopping = tf.keras.callbacks.EarlyStopping(monitor='val_f1_score', patience=4, verbose=1)\n",
    "#     reduce_lr = tf.keras.callbacks.ReduceLROnPlateau(monitor='val_f1_score', patience=2, factor=0.2, verbose=1)\n",
    "#     callbacks = [checkpoint, early_stopping, reduce_lr]\n",
    "\n",
    "    history = model.fit(x_train, y_train, validation_data=(x_valid, y_valid), epochs=10, callbacks=callbacks, verbose=1)\n",
    "    # , batch_size=16\n",
    "    accuracies.append(max(history.history['val_accuracy']))\n",
    "#     f1s.append(max(history.history['val_f1_score']))\n",
    "    \n",
    "    # plot accuracy\n",
    "    acc = history.history['accuracy']\n",
    "    val_acc = history.history['val_accuracy']\n",
    "    epochs = range(len(acc))\n",
    "    plt.plot(epochs, acc, 'r')\n",
    "    plt.plot(epochs, val_acc, 'b')\n",
    "    plt.title('Training and validation accuracy')\n",
    "    plt.xlabel(\"Epochs\")\n",
    "    plt.ylabel(\"Accuracy\")\n",
    "    plt.legend([\"Accuracy\", \"Validation Accuracy\"])\n",
    "    plt.show()\n",
    "    # plot loss\n",
    "    loss = history.history['loss']\n",
    "    val_loss = history.history['val_loss']\n",
    "    plt.plot(epochs, loss, 'r')\n",
    "    plt.plot(epochs, val_loss, 'b')\n",
    "    plt.title('Training and validation loss')\n",
    "    plt.xlabel(\"Epochs\")\n",
    "    plt.ylabel(\"Loss\")\n",
    "    plt.legend([\"Loss\", \"Validation Loss\"])\n",
    "    plt.show()\n",
    "    \n",
    "    model.load_weights(f'model_{fold}.h5')\n",
    "    models.append(model)\n",
    "    \n",
    "print(\"Average Max Accuracy: \", np.mean(accuracies))\n",
    "# print(\"Average Max F1: \", np.mean(f1s))"
   ]
  },
  {
   "cell_type": "code",
   "execution_count": 19,
   "id": "77275a87",
   "metadata": {
    "execution": {
     "iopub.execute_input": "2022-09-09T08:42:42.101265Z",
     "iopub.status.busy": "2022-09-09T08:42:42.100873Z",
     "iopub.status.idle": "2022-09-09T08:42:42.105431Z",
     "shell.execute_reply": "2022-09-09T08:42:42.104472Z"
    },
    "papermill": {
     "duration": 0.336072,
     "end_time": "2022-09-09T08:42:42.107480",
     "exception": false,
     "start_time": "2022-09-09T08:42:41.771408",
     "status": "completed"
    },
    "tags": []
   },
   "outputs": [],
   "source": [
    "# print(accuracies)\n",
    "# print(f1s)"
   ]
  },
  {
   "cell_type": "markdown",
   "id": "d03661e8",
   "metadata": {
    "papermill": {
     "duration": 0.474136,
     "end_time": "2022-09-09T08:42:43.035856",
     "exception": false,
     "start_time": "2022-09-09T08:42:42.561720",
     "status": "completed"
    },
    "tags": []
   },
   "source": [
    "# Predict and submit"
   ]
  },
  {
   "cell_type": "code",
   "execution_count": 20,
   "id": "5a221490",
   "metadata": {
    "execution": {
     "iopub.execute_input": "2022-09-09T08:42:43.679964Z",
     "iopub.status.busy": "2022-09-09T08:42:43.679381Z",
     "iopub.status.idle": "2022-09-09T08:43:27.838345Z",
     "shell.execute_reply": "2022-09-09T08:43:27.837301Z"
    },
    "papermill": {
     "duration": 44.484167,
     "end_time": "2022-09-09T08:43:27.840930",
     "exception": false,
     "start_time": "2022-09-09T08:42:43.356763",
     "status": "completed"
    },
    "tags": []
   },
   "outputs": [],
   "source": [
    "soft_voting = pd.DataFrame()\n",
    "x_test = bert_encode(test.text.values, tokenizer, max_len=max_len)\n",
    "for n, m in enumerate(models):\n",
    "    test_prob = m.predict(x_test)\n",
    "    soft_voting[n] = test_prob.flatten()"
   ]
  },
  {
   "cell_type": "code",
   "execution_count": 21,
   "id": "01b0d3ae",
   "metadata": {
    "execution": {
     "iopub.execute_input": "2022-09-09T08:43:28.478487Z",
     "iopub.status.busy": "2022-09-09T08:43:28.478114Z",
     "iopub.status.idle": "2022-09-09T08:43:28.496577Z",
     "shell.execute_reply": "2022-09-09T08:43:28.495634Z"
    },
    "papermill": {
     "duration": 0.33774,
     "end_time": "2022-09-09T08:43:28.498596",
     "exception": false,
     "start_time": "2022-09-09T08:43:28.160856",
     "status": "completed"
    },
    "tags": []
   },
   "outputs": [],
   "source": [
    "soft_voting[5] = (soft_voting[0]+soft_voting[1]+soft_voting[2]+soft_voting[3]+soft_voting[4])/5\n",
    "submission['target'] = soft_voting[5].values.round().astype(int)\n",
    "submission.to_csv('submission.csv', index=False)"
   ]
  }
 ],
 "metadata": {
  "kernelspec": {
   "display_name": "Python 3",
   "language": "python",
   "name": "python3"
  },
  "language_info": {
   "codemirror_mode": {
    "name": "ipython",
    "version": 3
   },
   "file_extension": ".py",
   "mimetype": "text/x-python",
   "name": "python",
   "nbconvert_exporter": "python",
   "pygments_lexer": "ipython3",
   "version": "3.7.12"
  },
  "papermill": {
   "default_parameters": {},
   "duration": 1864.276092,
   "end_time": "2022-09-09T08:43:32.179578",
   "environment_variables": {},
   "exception": null,
   "input_path": "__notebook__.ipynb",
   "output_path": "__notebook__.ipynb",
   "parameters": {},
   "start_time": "2022-09-09T08:12:27.903486",
   "version": "2.3.4"
  }
 },
 "nbformat": 4,
 "nbformat_minor": 5
}
