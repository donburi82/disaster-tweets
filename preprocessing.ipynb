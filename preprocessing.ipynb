{
 "cells": [
  {
   "cell_type": "code",
   "execution_count": 1,
   "id": "fee2e3be",
   "metadata": {
    "_cell_guid": "b1076dfc-b9ad-4769-8c92-a6c4dae69d19",
    "_uuid": "8f2839f25d086af736a60e9eeb907d3b93b6e0e5",
    "execution": {
     "iopub.execute_input": "2022-09-02T14:43:14.267270Z",
     "iopub.status.busy": "2022-09-02T14:43:14.266371Z",
     "iopub.status.idle": "2022-09-02T14:43:30.429193Z",
     "shell.execute_reply": "2022-09-02T14:43:30.427358Z"
    },
    "papermill": {
     "duration": 16.174257,
     "end_time": "2022-09-02T14:43:30.432022",
     "exception": false,
     "start_time": "2022-09-02T14:43:14.257765",
     "status": "completed"
    },
    "tags": []
   },
   "outputs": [
    {
     "name": "stdout",
     "output_type": "stream",
     "text": [
      "Collecting contractions\r\n",
      "  Downloading contractions-0.1.72-py2.py3-none-any.whl (8.3 kB)\r\n",
      "Collecting textsearch>=0.0.21\r\n",
      "  Downloading textsearch-0.0.24-py2.py3-none-any.whl (7.6 kB)\r\n",
      "Collecting anyascii\r\n",
      "  Downloading anyascii-0.3.1-py3-none-any.whl (287 kB)\r\n",
      "\u001b[2K     \u001b[90m━━━━━━━━━━━━━━━━━━━━━━━━━━━━━━━━━━━━━━━\u001b[0m \u001b[32m287.5/287.5 kB\u001b[0m \u001b[31m2.9 MB/s\u001b[0m eta \u001b[36m0:00:00\u001b[0m\r\n",
      "\u001b[?25hCollecting pyahocorasick\r\n",
      "  Downloading pyahocorasick-1.4.4-cp37-cp37m-manylinux_2_17_x86_64.manylinux2014_x86_64.whl (106 kB)\r\n",
      "\u001b[2K     \u001b[90m━━━━━━━━━━━━━━━━━━━━━━━━━━━━━━━━━━━━━━━\u001b[0m \u001b[32m106.5/106.5 kB\u001b[0m \u001b[31m7.1 MB/s\u001b[0m eta \u001b[36m0:00:00\u001b[0m\r\n",
      "\u001b[?25hInstalling collected packages: pyahocorasick, anyascii, textsearch, contractions\r\n",
      "Successfully installed anyascii-0.3.1 contractions-0.1.72 pyahocorasick-1.4.4 textsearch-0.0.24\r\n",
      "\u001b[33mWARNING: Running pip as the 'root' user can result in broken permissions and conflicting behaviour with the system package manager. It is recommended to use a virtual environment instead: https://pip.pypa.io/warnings/venv\u001b[0m\u001b[33m\r\n",
      "\u001b[0m/kaggle/input/glove840b300dtxt/glove.840B.300d.txt\n",
      "/kaggle/input/paragram-300-sl999/paragram_300_sl999.txt\n",
      "/kaggle/input/nlp-getting-started/sample_submission.csv\n",
      "/kaggle/input/nlp-getting-started/train.csv\n",
      "/kaggle/input/nlp-getting-started/test.csv\n",
      "/kaggle/input/wikinews300d1msubwordvec/wiki-news-300d-1M-subword.vec\n"
     ]
    }
   ],
   "source": [
    "# This Python 3 environment comes with many helpful analytics libraries installed\n",
    "# It is defined by the kaggle/python Docker image: https://github.com/kaggle/docker-python\n",
    "# For example, here's several helpful packages to load\n",
    "\n",
    "import numpy as np # linear algebra\n",
    "import pandas as pd # data processing, CSV file I/O (e.g. pd.read_csv)\n",
    "!pip install contractions\n",
    "import contractions\n",
    "import re\n",
    "import string\n",
    "import operator\n",
    "import nltk\n",
    "from nltk.corpus import stopwords\n",
    "\n",
    "# Input data files are available in the read-only \"../input/\" directory\n",
    "# For example, running this (by clicking run or pressing Shift+Enter) will list all files under the input directory\n",
    "\n",
    "import os\n",
    "for dirname, _, filenames in os.walk('/kaggle/input'):\n",
    "    for filename in filenames:\n",
    "        print(os.path.join(dirname, filename))\n",
    "\n",
    "# You can write up to 20GB to the current directory (/kaggle/working/) that gets preserved as output when you create a version using \"Save & Run All\" \n",
    "# You can also write temporary files to /kaggle/temp/, but they won't be saved outside of the current session"
   ]
  },
  {
   "cell_type": "code",
   "execution_count": 2,
   "id": "ae590dd0",
   "metadata": {
    "execution": {
     "iopub.execute_input": "2022-09-02T14:43:30.447508Z",
     "iopub.status.busy": "2022-09-02T14:43:30.447026Z",
     "iopub.status.idle": "2022-09-02T14:43:30.579432Z",
     "shell.execute_reply": "2022-09-02T14:43:30.578223Z"
    },
    "papermill": {
     "duration": 0.143414,
     "end_time": "2022-09-02T14:43:30.582330",
     "exception": false,
     "start_time": "2022-09-02T14:43:30.438916",
     "status": "completed"
    },
    "tags": []
   },
   "outputs": [],
   "source": [
    "train = pd.read_csv('../input/nlp-getting-started/train.csv')\n",
    "test = pd.read_csv('../input/nlp-getting-started/test.csv')"
   ]
  },
  {
   "cell_type": "code",
   "execution_count": 3,
   "id": "a052be19",
   "metadata": {
    "execution": {
     "iopub.execute_input": "2022-09-02T14:43:30.597825Z",
     "iopub.status.busy": "2022-09-02T14:43:30.596746Z",
     "iopub.status.idle": "2022-09-02T14:43:30.603624Z",
     "shell.execute_reply": "2022-09-02T14:43:30.602130Z"
    },
    "papermill": {
     "duration": 0.017695,
     "end_time": "2022-09-02T14:43:30.606678",
     "exception": false,
     "start_time": "2022-09-02T14:43:30.588983",
     "status": "completed"
    },
    "tags": []
   },
   "outputs": [
    {
     "name": "stdout",
     "output_type": "stream",
     "text": [
      "Training data shape:  (7613, 5)\n",
      "Test data shape:  (3263, 4)\n"
     ]
    }
   ],
   "source": [
    "print('Training data shape: ', train.shape)\n",
    "print('Test data shape: ', test.shape)"
   ]
  },
  {
   "cell_type": "code",
   "execution_count": 4,
   "id": "56910f76",
   "metadata": {
    "execution": {
     "iopub.execute_input": "2022-09-02T14:43:30.621454Z",
     "iopub.status.busy": "2022-09-02T14:43:30.621063Z",
     "iopub.status.idle": "2022-09-02T14:43:30.656262Z",
     "shell.execute_reply": "2022-09-02T14:43:30.654546Z"
    },
    "papermill": {
     "duration": 0.047847,
     "end_time": "2022-09-02T14:43:30.661103",
     "exception": false,
     "start_time": "2022-09-02T14:43:30.613256",
     "status": "completed"
    },
    "tags": []
   },
   "outputs": [
    {
     "name": "stdout",
     "output_type": "stream",
     "text": [
      "Concat data shape:  (10876, 5)\n"
     ]
    },
    {
     "data": {
      "text/html": [
       "<div>\n",
       "<style scoped>\n",
       "    .dataframe tbody tr th:only-of-type {\n",
       "        vertical-align: middle;\n",
       "    }\n",
       "\n",
       "    .dataframe tbody tr th {\n",
       "        vertical-align: top;\n",
       "    }\n",
       "\n",
       "    .dataframe thead th {\n",
       "        text-align: right;\n",
       "    }\n",
       "</style>\n",
       "<table border=\"1\" class=\"dataframe\">\n",
       "  <thead>\n",
       "    <tr style=\"text-align: right;\">\n",
       "      <th></th>\n",
       "      <th>id</th>\n",
       "      <th>keyword</th>\n",
       "      <th>location</th>\n",
       "      <th>text</th>\n",
       "      <th>target</th>\n",
       "    </tr>\n",
       "  </thead>\n",
       "  <tbody>\n",
       "    <tr>\n",
       "      <th>301</th>\n",
       "      <td>443</td>\n",
       "      <td>apocalypse</td>\n",
       "      <td>NaN</td>\n",
       "      <td>Short Reading\\n\\nApocalypse 21:1023 \\n\\nIn the spirit the angel took me to the top of an enormous high mountain and... http://t.co/v8AfTD9zeZ</td>\n",
       "      <td>1.0</td>\n",
       "    </tr>\n",
       "    <tr>\n",
       "      <th>302</th>\n",
       "      <td>444</td>\n",
       "      <td>apocalypse</td>\n",
       "      <td>Tokyo</td>\n",
       "      <td>Enjoyed live-action Attack on Titan but every time I see posters I'm reminded how freshly clean and coiffed everyone is in the apocalypse.</td>\n",
       "      <td>0.0</td>\n",
       "    </tr>\n",
       "    <tr>\n",
       "      <th>303</th>\n",
       "      <td>445</td>\n",
       "      <td>apocalypse</td>\n",
       "      <td>NaN</td>\n",
       "      <td>I liked a @YouTube video http://t.co/ki1yKrs9fi Minecraft: NIGHT LUCKY BLOCK MOD (BOB APOCALYPSE WITHER 2.0 &amp;amp; MORE!) Mod Showcase</td>\n",
       "      <td>0.0</td>\n",
       "    </tr>\n",
       "    <tr>\n",
       "      <th>304</th>\n",
       "      <td>446</td>\n",
       "      <td>armageddon</td>\n",
       "      <td>California, United States</td>\n",
       "      <td>#PBBan (Temporary:300) avYsss @'aRmageddon | DO NOT KILL | FLAGS ONLY | Fast XP' for Reason</td>\n",
       "      <td>0.0</td>\n",
       "    </tr>\n",
       "    <tr>\n",
       "      <th>305</th>\n",
       "      <td>447</td>\n",
       "      <td>armageddon</td>\n",
       "      <td>California, United States</td>\n",
       "      <td>#PBBan (Temporary:300) Russaky89 @'aRmageddon | DO NOT KILL | FLAGS ONLY | Fast XP' for Reason</td>\n",
       "      <td>0.0</td>\n",
       "    </tr>\n",
       "    <tr>\n",
       "      <th>306</th>\n",
       "      <td>448</td>\n",
       "      <td>armageddon</td>\n",
       "      <td>#FLIGHTCITY UK</td>\n",
       "      <td>((OFFICIAL VID)) #DoubleCups &amp;gt;&amp;gt; https://t.co/lfKMTZaEkk &amp;gt;&amp;gt; @TrubGME Prod @THISIZBWRIGHT &amp;gt;&amp;gt; #ARMAGEDDON</td>\n",
       "      <td>0.0</td>\n",
       "    </tr>\n",
       "    <tr>\n",
       "      <th>307</th>\n",
       "      <td>450</td>\n",
       "      <td>armageddon</td>\n",
       "      <td>NaN</td>\n",
       "      <td>ouvindo Peace Love &amp;amp; Armageddon</td>\n",
       "      <td>0.0</td>\n",
       "    </tr>\n",
       "    <tr>\n",
       "      <th>308</th>\n",
       "      <td>451</td>\n",
       "      <td>armageddon</td>\n",
       "      <td>NaN</td>\n",
       "      <td>Best movie you've ever seen? - Armageddon  http://t.co/qoUXIgdtbZ</td>\n",
       "      <td>0.0</td>\n",
       "    </tr>\n",
       "    <tr>\n",
       "      <th>309</th>\n",
       "      <td>452</td>\n",
       "      <td>armageddon</td>\n",
       "      <td>Alphen aan den Rijn, Holland</td>\n",
       "      <td>Bed time. Don't wake me up unless revolution or Armageddon start.</td>\n",
       "      <td>0.0</td>\n",
       "    </tr>\n",
       "    <tr>\n",
       "      <th>310</th>\n",
       "      <td>453</td>\n",
       "      <td>armageddon</td>\n",
       "      <td>NaN</td>\n",
       "      <td>Red Faction: Armageddon  (Microsoft Xbox 360 2011) - Full read by eBay http://t.co/ypbVS1IJya http://t.co/9dFLv6ynqr</td>\n",
       "      <td>0.0</td>\n",
       "    </tr>\n",
       "  </tbody>\n",
       "</table>\n",
       "</div>"
      ],
      "text/plain": [
       "      id     keyword                      location  \\\n",
       "301  443  apocalypse                           NaN   \n",
       "302  444  apocalypse                         Tokyo   \n",
       "303  445  apocalypse                           NaN   \n",
       "304  446  armageddon     California, United States   \n",
       "305  447  armageddon     California, United States   \n",
       "306  448  armageddon              #FLIGHTCITY UK     \n",
       "307  450  armageddon                           NaN   \n",
       "308  451  armageddon                           NaN   \n",
       "309  452  armageddon  Alphen aan den Rijn, Holland   \n",
       "310  453  armageddon                           NaN   \n",
       "\n",
       "                                                                                                                                              text  \\\n",
       "301  Short Reading\\n\\nApocalypse 21:1023 \\n\\nIn the spirit the angel took me to the top of an enormous high mountain and... http://t.co/v8AfTD9zeZ   \n",
       "302     Enjoyed live-action Attack on Titan but every time I see posters I'm reminded how freshly clean and coiffed everyone is in the apocalypse.   \n",
       "303          I liked a @YouTube video http://t.co/ki1yKrs9fi Minecraft: NIGHT LUCKY BLOCK MOD (BOB APOCALYPSE WITHER 2.0 &amp; MORE!) Mod Showcase   \n",
       "304                                                    #PBBan (Temporary:300) avYsss @'aRmageddon | DO NOT KILL | FLAGS ONLY | Fast XP' for Reason   \n",
       "305                                                 #PBBan (Temporary:300) Russaky89 @'aRmageddon | DO NOT KILL | FLAGS ONLY | Fast XP' for Reason   \n",
       "306                       ((OFFICIAL VID)) #DoubleCups &gt;&gt; https://t.co/lfKMTZaEkk &gt;&gt; @TrubGME Prod @THISIZBWRIGHT &gt;&gt; #ARMAGEDDON   \n",
       "307                                                                                                            ouvindo Peace Love &amp; Armageddon   \n",
       "308                                                                              Best movie you've ever seen? - Armageddon  http://t.co/qoUXIgdtbZ   \n",
       "309                                                                              Bed time. Don't wake me up unless revolution or Armageddon start.   \n",
       "310                           Red Faction: Armageddon  (Microsoft Xbox 360 2011) - Full read by eBay http://t.co/ypbVS1IJya http://t.co/9dFLv6ynqr   \n",
       "\n",
       "     target  \n",
       "301     1.0  \n",
       "302     0.0  \n",
       "303     0.0  \n",
       "304     0.0  \n",
       "305     0.0  \n",
       "306     0.0  \n",
       "307     0.0  \n",
       "308     0.0  \n",
       "309     0.0  \n",
       "310     0.0  "
      ]
     },
     "execution_count": 4,
     "metadata": {},
     "output_type": "execute_result"
    }
   ],
   "source": [
    "df = pd.concat([train, test])\n",
    "print('Concat data shape: ', df.shape)\n",
    "pd.set_option('display.max_colwidth', None)\n",
    "pd.set_option('display.max_rows', None)\n",
    "df[301:311]"
   ]
  },
  {
   "cell_type": "markdown",
   "id": "9ca841ba",
   "metadata": {
    "papermill": {
     "duration": 0.006403,
     "end_time": "2022-09-02T14:43:30.674337",
     "exception": false,
     "start_time": "2022-09-02T14:43:30.667934",
     "status": "completed"
    },
    "tags": []
   },
   "source": [
    "**Embeddings**"
   ]
  },
  {
   "cell_type": "code",
   "execution_count": 5,
   "id": "91b17745",
   "metadata": {
    "execution": {
     "iopub.execute_input": "2022-09-02T14:43:30.690346Z",
     "iopub.status.busy": "2022-09-02T14:43:30.689476Z",
     "iopub.status.idle": "2022-09-02T14:43:30.702768Z",
     "shell.execute_reply": "2022-09-02T14:43:30.701635Z"
    },
    "papermill": {
     "duration": 0.024645,
     "end_time": "2022-09-02T14:43:30.705718",
     "exception": false,
     "start_time": "2022-09-02T14:43:30.681073",
     "status": "completed"
    },
    "tags": []
   },
   "outputs": [],
   "source": [
    "# functions for loading embeddings and checking embedding coverage\n",
    "def load_embed(file):\n",
    "    def get_coefs(word,*arr): \n",
    "        return word, np.asarray(arr, dtype='float32')\n",
    "    \n",
    "    if file == '../input/embeddings/wiki-news-300d-1M/wiki-news-300d-1M.vec':\n",
    "        embeddings_index = dict(get_coefs(*o.split(\" \")) for o in open(file) if len(o)>100)\n",
    "    else:\n",
    "        embeddings_index = dict(get_coefs(*o.split(\" \")) for o in open(file, encoding='latin'))\n",
    "        \n",
    "    return embeddings_index\n",
    "\n",
    "def build_vocab(texts):\n",
    "    sentences = texts.apply(lambda x: x.split()).values\n",
    "    vocab = {}\n",
    "    for sentence in sentences:\n",
    "        for word in sentence:\n",
    "            try:\n",
    "                vocab[word] += 1\n",
    "            except KeyError:\n",
    "                vocab[word] = 1\n",
    "    return vocab\n",
    "\n",
    "def check_coverage(vocab, embeddings_index):\n",
    "    known_words = {}\n",
    "    unknown_words = {}\n",
    "    nb_known_words = 0\n",
    "    nb_unknown_words = 0\n",
    "    for word in vocab.keys():\n",
    "        try:\n",
    "            known_words[word] = embeddings_index[word]\n",
    "            nb_known_words += vocab[word]\n",
    "        except:\n",
    "            unknown_words[word] = vocab[word]\n",
    "            nb_unknown_words += vocab[word]\n",
    "            pass\n",
    "\n",
    "    print('Found embeddings for {:.2%} of vocab'.format(len(known_words) / len(vocab)))\n",
    "    print('Found embeddings for  {:.2%} of all text'.format(nb_known_words / (nb_known_words + nb_unknown_words)))\n",
    "    unknown_words = sorted(unknown_words.items(), key=operator.itemgetter(1))[::-1]\n",
    "\n",
    "    return unknown_words"
   ]
  },
  {
   "cell_type": "code",
   "execution_count": 6,
   "id": "eef5f117",
   "metadata": {
    "execution": {
     "iopub.execute_input": "2022-09-02T14:43:30.721710Z",
     "iopub.status.busy": "2022-09-02T14:43:30.720902Z",
     "iopub.status.idle": "2022-09-02T14:47:27.708847Z",
     "shell.execute_reply": "2022-09-02T14:47:27.706431Z"
    },
    "papermill": {
     "duration": 237.002404,
     "end_time": "2022-09-02T14:47:27.715040",
     "exception": false,
     "start_time": "2022-09-02T14:43:30.712636",
     "status": "completed"
    },
    "tags": []
   },
   "outputs": [],
   "source": [
    "glove = '../input/glove840b300dtxt/glove.840B.300d.txt'\n",
    "paragram =  '../input/paragram-300-sl999/paragram_300_sl999.txt'\n",
    "wiki_news = '../input/wikinews300d1msubwordvec/wiki-news-300d-1M-subword.vec'\n",
    "embed_glove = load_embed(glove)\n",
    "embed_paragram = load_embed(paragram)\n",
    "embed_fasttext = load_embed(wiki_news)"
   ]
  },
  {
   "cell_type": "markdown",
   "id": "27f1ead4",
   "metadata": {
    "papermill": {
     "duration": 0.006784,
     "end_time": "2022-09-02T14:47:27.731332",
     "exception": false,
     "start_time": "2022-09-02T14:47:27.724548",
     "status": "completed"
    },
    "tags": []
   },
   "source": [
    "**Coverage Before Pre-processing**"
   ]
  },
  {
   "cell_type": "code",
   "execution_count": 7,
   "id": "b8e6446d",
   "metadata": {
    "execution": {
     "iopub.execute_input": "2022-09-02T14:47:27.748757Z",
     "iopub.status.busy": "2022-09-02T14:47:27.747292Z",
     "iopub.status.idle": "2022-09-02T14:47:28.031430Z",
     "shell.execute_reply": "2022-09-02T14:47:28.029224Z"
    },
    "papermill": {
     "duration": 0.29686,
     "end_time": "2022-09-02T14:47:28.035090",
     "exception": false,
     "start_time": "2022-09-02T14:47:27.738230",
     "status": "completed"
    },
    "tags": []
   },
   "outputs": [
    {
     "name": "stdout",
     "output_type": "stream",
     "text": [
      "Glove : \n",
      "Found embeddings for 48.73% of vocab\n",
      "Found embeddings for  82.43% of all text\n",
      "Paragram : \n",
      "Found embeddings for 20.61% of vocab\n",
      "Found embeddings for  56.08% of all text\n",
      "FastText : \n",
      "Found embeddings for 45.38% of vocab\n",
      "Found embeddings for  79.45% of all text\n"
     ]
    }
   ],
   "source": [
    "vocab = build_vocab(df['text'])\n",
    "print(\"Glove : \")\n",
    "oov_glove = check_coverage(vocab, embed_glove)\n",
    "print(\"Paragram : \")\n",
    "oov_paragram = check_coverage(vocab, embed_paragram)\n",
    "print(\"FastText : \")\n",
    "oov_fasttext = check_coverage(vocab, embed_fasttext)"
   ]
  },
  {
   "cell_type": "markdown",
   "id": "f569e7b4",
   "metadata": {
    "papermill": {
     "duration": 0.006667,
     "end_time": "2022-09-02T14:47:28.052910",
     "exception": false,
     "start_time": "2022-09-02T14:47:28.046243",
     "status": "completed"
    },
    "tags": []
   },
   "source": [
    "**Pre-processing**"
   ]
  },
  {
   "cell_type": "markdown",
   "id": "6de14665",
   "metadata": {
    "papermill": {
     "duration": 0.006737,
     "end_time": "2022-09-02T14:47:28.066810",
     "exception": false,
     "start_time": "2022-09-02T14:47:28.060073",
     "status": "completed"
    },
    "tags": []
   },
   "source": [
    "Text Cleaning"
   ]
  },
  {
   "cell_type": "code",
   "execution_count": 8,
   "id": "83963149",
   "metadata": {
    "execution": {
     "iopub.execute_input": "2022-09-02T14:47:28.083777Z",
     "iopub.status.busy": "2022-09-02T14:47:28.083305Z",
     "iopub.status.idle": "2022-09-02T14:47:28.094656Z",
     "shell.execute_reply": "2022-09-02T14:47:28.093347Z"
    },
    "papermill": {
     "duration": 0.023715,
     "end_time": "2022-09-02T14:47:28.097994",
     "exception": false,
     "start_time": "2022-09-02T14:47:28.074279",
     "status": "completed"
    },
    "tags": []
   },
   "outputs": [],
   "source": [
    "def clean_text(text):\n",
    "    # lowercase\n",
    "    text = text.lower()\n",
    "    # expand contractions\n",
    "    text = contractions.fix(text)\n",
    "    # remove urls\n",
    "    text = re.sub('https?://\\S+|www\\.\\S+', ' ', text)\n",
    "    # remove HTML tags\n",
    "    html = re.compile(r\"<.*?>|&([a-z0-9]+|#[0-9]{1,6}|#x[0-9a-f]{1,6});\")\n",
    "    text = re.sub(html, ' ', text)\n",
    "    # remove irrelevant characters - punctuations and numbers\n",
    "    #text = re.sub(r'[^a-zA-Z]', ' ', text)\n",
    "    # remove punctuations\n",
    "    #table = str.maketrans('','',string.punctuation)\n",
    "    #text = text.translate(table)\n",
    "    text = re.sub('['+string.punctuation+']', ' ', text)\n",
    "    # remove numbers\n",
    "    text = re.sub(r'\\d+', ' ', text)\n",
    "    # remove non-ASCII characters\n",
    "    text = re.sub(r'[^\\x00-\\x7f]',r' ', text)\n",
    "    # remove newline \\n\n",
    "    text = re.sub('\\n', ' ', text)\n",
    "    # remove special characters\n",
    "    emoji_pattern = re.compile(\"[\"\n",
    "                           u\"\\U0001F600-\\U0001F64F\"  # emoticons\n",
    "                           u\"\\U0001F300-\\U0001F5FF\"  # symbols & pictographs\n",
    "                           u\"\\U0001F680-\\U0001F6FF\"  # transport & map symbols\n",
    "                           u\"\\U0001F1E0-\\U0001F1FF\"  # flags (iOS)\n",
    "                           u\"\\U00002702-\\U000027B0\"\n",
    "                           u\"\\U000024C2-\\U0001F251\"\n",
    "                           \"]+\", flags=re.UNICODE)\n",
    "    text = emoji_pattern.sub(r'', text)\n",
    "    # remove extra whitespaces\n",
    "    pattern = r'^\\s*|\\s\\s*'\n",
    "    text = re.sub(pattern, ' ', text).strip()\n",
    "    \n",
    "    return text"
   ]
  },
  {
   "cell_type": "code",
   "execution_count": 9,
   "id": "c81e5554",
   "metadata": {
    "execution": {
     "iopub.execute_input": "2022-09-02T14:47:28.113868Z",
     "iopub.status.busy": "2022-09-02T14:47:28.113446Z",
     "iopub.status.idle": "2022-09-02T14:47:28.132702Z",
     "shell.execute_reply": "2022-09-02T14:47:28.131527Z"
    },
    "papermill": {
     "duration": 0.030191,
     "end_time": "2022-09-02T14:47:28.135269",
     "exception": false,
     "start_time": "2022-09-02T14:47:28.105078",
     "status": "completed"
    },
    "tags": []
   },
   "outputs": [
    {
     "data": {
      "text/html": [
       "<div>\n",
       "<style scoped>\n",
       "    .dataframe tbody tr th:only-of-type {\n",
       "        vertical-align: middle;\n",
       "    }\n",
       "\n",
       "    .dataframe tbody tr th {\n",
       "        vertical-align: top;\n",
       "    }\n",
       "\n",
       "    .dataframe thead th {\n",
       "        text-align: right;\n",
       "    }\n",
       "</style>\n",
       "<table border=\"1\" class=\"dataframe\">\n",
       "  <thead>\n",
       "    <tr style=\"text-align: right;\">\n",
       "      <th></th>\n",
       "      <th>id</th>\n",
       "      <th>keyword</th>\n",
       "      <th>location</th>\n",
       "      <th>text</th>\n",
       "      <th>target</th>\n",
       "    </tr>\n",
       "  </thead>\n",
       "  <tbody>\n",
       "    <tr>\n",
       "      <th>301</th>\n",
       "      <td>443</td>\n",
       "      <td>apocalypse</td>\n",
       "      <td>NaN</td>\n",
       "      <td>Short Reading\\n\\nApocalypse 21:1023 \\n\\nIn the spirit the angel took me to the top of an enormous high mountain and... http://t.co/v8AfTD9zeZ</td>\n",
       "      <td>1.0</td>\n",
       "    </tr>\n",
       "    <tr>\n",
       "      <th>302</th>\n",
       "      <td>444</td>\n",
       "      <td>apocalypse</td>\n",
       "      <td>Tokyo</td>\n",
       "      <td>Enjoyed live-action Attack on Titan but every time I see posters I'm reminded how freshly clean and coiffed everyone is in the apocalypse.</td>\n",
       "      <td>0.0</td>\n",
       "    </tr>\n",
       "    <tr>\n",
       "      <th>303</th>\n",
       "      <td>445</td>\n",
       "      <td>apocalypse</td>\n",
       "      <td>NaN</td>\n",
       "      <td>I liked a @YouTube video http://t.co/ki1yKrs9fi Minecraft: NIGHT LUCKY BLOCK MOD (BOB APOCALYPSE WITHER 2.0 &amp;amp; MORE!) Mod Showcase</td>\n",
       "      <td>0.0</td>\n",
       "    </tr>\n",
       "    <tr>\n",
       "      <th>304</th>\n",
       "      <td>446</td>\n",
       "      <td>armageddon</td>\n",
       "      <td>California, United States</td>\n",
       "      <td>#PBBan (Temporary:300) avYsss @'aRmageddon | DO NOT KILL | FLAGS ONLY | Fast XP' for Reason</td>\n",
       "      <td>0.0</td>\n",
       "    </tr>\n",
       "    <tr>\n",
       "      <th>305</th>\n",
       "      <td>447</td>\n",
       "      <td>armageddon</td>\n",
       "      <td>California, United States</td>\n",
       "      <td>#PBBan (Temporary:300) Russaky89 @'aRmageddon | DO NOT KILL | FLAGS ONLY | Fast XP' for Reason</td>\n",
       "      <td>0.0</td>\n",
       "    </tr>\n",
       "    <tr>\n",
       "      <th>306</th>\n",
       "      <td>448</td>\n",
       "      <td>armageddon</td>\n",
       "      <td>#FLIGHTCITY UK</td>\n",
       "      <td>((OFFICIAL VID)) #DoubleCups &amp;gt;&amp;gt; https://t.co/lfKMTZaEkk &amp;gt;&amp;gt; @TrubGME Prod @THISIZBWRIGHT &amp;gt;&amp;gt; #ARMAGEDDON</td>\n",
       "      <td>0.0</td>\n",
       "    </tr>\n",
       "    <tr>\n",
       "      <th>307</th>\n",
       "      <td>450</td>\n",
       "      <td>armageddon</td>\n",
       "      <td>NaN</td>\n",
       "      <td>ouvindo Peace Love &amp;amp; Armageddon</td>\n",
       "      <td>0.0</td>\n",
       "    </tr>\n",
       "    <tr>\n",
       "      <th>308</th>\n",
       "      <td>451</td>\n",
       "      <td>armageddon</td>\n",
       "      <td>NaN</td>\n",
       "      <td>Best movie you've ever seen? - Armageddon  http://t.co/qoUXIgdtbZ</td>\n",
       "      <td>0.0</td>\n",
       "    </tr>\n",
       "    <tr>\n",
       "      <th>309</th>\n",
       "      <td>452</td>\n",
       "      <td>armageddon</td>\n",
       "      <td>Alphen aan den Rijn, Holland</td>\n",
       "      <td>Bed time. Don't wake me up unless revolution or Armageddon start.</td>\n",
       "      <td>0.0</td>\n",
       "    </tr>\n",
       "    <tr>\n",
       "      <th>310</th>\n",
       "      <td>453</td>\n",
       "      <td>armageddon</td>\n",
       "      <td>NaN</td>\n",
       "      <td>Red Faction: Armageddon  (Microsoft Xbox 360 2011) - Full read by eBay http://t.co/ypbVS1IJya http://t.co/9dFLv6ynqr</td>\n",
       "      <td>0.0</td>\n",
       "    </tr>\n",
       "  </tbody>\n",
       "</table>\n",
       "</div>"
      ],
      "text/plain": [
       "      id     keyword                      location  \\\n",
       "301  443  apocalypse                           NaN   \n",
       "302  444  apocalypse                         Tokyo   \n",
       "303  445  apocalypse                           NaN   \n",
       "304  446  armageddon     California, United States   \n",
       "305  447  armageddon     California, United States   \n",
       "306  448  armageddon              #FLIGHTCITY UK     \n",
       "307  450  armageddon                           NaN   \n",
       "308  451  armageddon                           NaN   \n",
       "309  452  armageddon  Alphen aan den Rijn, Holland   \n",
       "310  453  armageddon                           NaN   \n",
       "\n",
       "                                                                                                                                              text  \\\n",
       "301  Short Reading\\n\\nApocalypse 21:1023 \\n\\nIn the spirit the angel took me to the top of an enormous high mountain and... http://t.co/v8AfTD9zeZ   \n",
       "302     Enjoyed live-action Attack on Titan but every time I see posters I'm reminded how freshly clean and coiffed everyone is in the apocalypse.   \n",
       "303          I liked a @YouTube video http://t.co/ki1yKrs9fi Minecraft: NIGHT LUCKY BLOCK MOD (BOB APOCALYPSE WITHER 2.0 &amp; MORE!) Mod Showcase   \n",
       "304                                                    #PBBan (Temporary:300) avYsss @'aRmageddon | DO NOT KILL | FLAGS ONLY | Fast XP' for Reason   \n",
       "305                                                 #PBBan (Temporary:300) Russaky89 @'aRmageddon | DO NOT KILL | FLAGS ONLY | Fast XP' for Reason   \n",
       "306                       ((OFFICIAL VID)) #DoubleCups &gt;&gt; https://t.co/lfKMTZaEkk &gt;&gt; @TrubGME Prod @THISIZBWRIGHT &gt;&gt; #ARMAGEDDON   \n",
       "307                                                                                                            ouvindo Peace Love &amp; Armageddon   \n",
       "308                                                                              Best movie you've ever seen? - Armageddon  http://t.co/qoUXIgdtbZ   \n",
       "309                                                                              Bed time. Don't wake me up unless revolution or Armageddon start.   \n",
       "310                           Red Faction: Armageddon  (Microsoft Xbox 360 2011) - Full read by eBay http://t.co/ypbVS1IJya http://t.co/9dFLv6ynqr   \n",
       "\n",
       "     target  \n",
       "301     1.0  \n",
       "302     0.0  \n",
       "303     0.0  \n",
       "304     0.0  \n",
       "305     0.0  \n",
       "306     0.0  \n",
       "307     0.0  \n",
       "308     0.0  \n",
       "309     0.0  \n",
       "310     0.0  "
      ]
     },
     "execution_count": 9,
     "metadata": {},
     "output_type": "execute_result"
    }
   ],
   "source": [
    "df[301:311]"
   ]
  },
  {
   "cell_type": "code",
   "execution_count": 10,
   "id": "329c2cdd",
   "metadata": {
    "execution": {
     "iopub.execute_input": "2022-09-02T14:47:28.151735Z",
     "iopub.status.busy": "2022-09-02T14:47:28.151276Z",
     "iopub.status.idle": "2022-09-02T14:47:28.597995Z",
     "shell.execute_reply": "2022-09-02T14:47:28.596915Z"
    },
    "papermill": {
     "duration": 0.45847,
     "end_time": "2022-09-02T14:47:28.601138",
     "exception": false,
     "start_time": "2022-09-02T14:47:28.142668",
     "status": "completed"
    },
    "tags": []
   },
   "outputs": [],
   "source": [
    "df['text'] = df['text'].apply(lambda x: clean_text(x))"
   ]
  },
  {
   "cell_type": "code",
   "execution_count": 11,
   "id": "39c0e12f",
   "metadata": {
    "execution": {
     "iopub.execute_input": "2022-09-02T14:47:28.617460Z",
     "iopub.status.busy": "2022-09-02T14:47:28.616739Z",
     "iopub.status.idle": "2022-09-02T14:47:28.633040Z",
     "shell.execute_reply": "2022-09-02T14:47:28.631768Z"
    },
    "papermill": {
     "duration": 0.027556,
     "end_time": "2022-09-02T14:47:28.635813",
     "exception": false,
     "start_time": "2022-09-02T14:47:28.608257",
     "status": "completed"
    },
    "tags": []
   },
   "outputs": [
    {
     "data": {
      "text/html": [
       "<div>\n",
       "<style scoped>\n",
       "    .dataframe tbody tr th:only-of-type {\n",
       "        vertical-align: middle;\n",
       "    }\n",
       "\n",
       "    .dataframe tbody tr th {\n",
       "        vertical-align: top;\n",
       "    }\n",
       "\n",
       "    .dataframe thead th {\n",
       "        text-align: right;\n",
       "    }\n",
       "</style>\n",
       "<table border=\"1\" class=\"dataframe\">\n",
       "  <thead>\n",
       "    <tr style=\"text-align: right;\">\n",
       "      <th></th>\n",
       "      <th>id</th>\n",
       "      <th>keyword</th>\n",
       "      <th>location</th>\n",
       "      <th>text</th>\n",
       "      <th>target</th>\n",
       "    </tr>\n",
       "  </thead>\n",
       "  <tbody>\n",
       "    <tr>\n",
       "      <th>301</th>\n",
       "      <td>443</td>\n",
       "      <td>apocalypse</td>\n",
       "      <td>NaN</td>\n",
       "      <td>short reading apocalypse in the spirit the angel took me to the top of an enormous high mountain and</td>\n",
       "      <td>1.0</td>\n",
       "    </tr>\n",
       "    <tr>\n",
       "      <th>302</th>\n",
       "      <td>444</td>\n",
       "      <td>apocalypse</td>\n",
       "      <td>Tokyo</td>\n",
       "      <td>enjoyed live action attack on titan but every time i see posters i am reminded how freshly clean and coiffed everyone is in the apocalypse</td>\n",
       "      <td>0.0</td>\n",
       "    </tr>\n",
       "    <tr>\n",
       "      <th>303</th>\n",
       "      <td>445</td>\n",
       "      <td>apocalypse</td>\n",
       "      <td>NaN</td>\n",
       "      <td>i liked a youtube video minecraft night lucky block mod bob apocalypse wither more mod showcase</td>\n",
       "      <td>0.0</td>\n",
       "    </tr>\n",
       "    <tr>\n",
       "      <th>304</th>\n",
       "      <td>446</td>\n",
       "      <td>armageddon</td>\n",
       "      <td>California, United States</td>\n",
       "      <td>pbban temporary avysss armageddon do not kill flags only fast xp for reason</td>\n",
       "      <td>0.0</td>\n",
       "    </tr>\n",
       "    <tr>\n",
       "      <th>305</th>\n",
       "      <td>447</td>\n",
       "      <td>armageddon</td>\n",
       "      <td>California, United States</td>\n",
       "      <td>pbban temporary russaky armageddon do not kill flags only fast xp for reason</td>\n",
       "      <td>0.0</td>\n",
       "    </tr>\n",
       "    <tr>\n",
       "      <th>306</th>\n",
       "      <td>448</td>\n",
       "      <td>armageddon</td>\n",
       "      <td>#FLIGHTCITY UK</td>\n",
       "      <td>official vid doublecups trubgme prod thisizbwright armageddon</td>\n",
       "      <td>0.0</td>\n",
       "    </tr>\n",
       "    <tr>\n",
       "      <th>307</th>\n",
       "      <td>450</td>\n",
       "      <td>armageddon</td>\n",
       "      <td>NaN</td>\n",
       "      <td>ouvindo peace love armageddon</td>\n",
       "      <td>0.0</td>\n",
       "    </tr>\n",
       "    <tr>\n",
       "      <th>308</th>\n",
       "      <td>451</td>\n",
       "      <td>armageddon</td>\n",
       "      <td>NaN</td>\n",
       "      <td>best movie you have ever seen armageddon</td>\n",
       "      <td>0.0</td>\n",
       "    </tr>\n",
       "    <tr>\n",
       "      <th>309</th>\n",
       "      <td>452</td>\n",
       "      <td>armageddon</td>\n",
       "      <td>Alphen aan den Rijn, Holland</td>\n",
       "      <td>bed time do not wake me up unless revolution or armageddon start</td>\n",
       "      <td>0.0</td>\n",
       "    </tr>\n",
       "    <tr>\n",
       "      <th>310</th>\n",
       "      <td>453</td>\n",
       "      <td>armageddon</td>\n",
       "      <td>NaN</td>\n",
       "      <td>red faction armageddon microsoft xbox full read by ebay</td>\n",
       "      <td>0.0</td>\n",
       "    </tr>\n",
       "  </tbody>\n",
       "</table>\n",
       "</div>"
      ],
      "text/plain": [
       "      id     keyword                      location  \\\n",
       "301  443  apocalypse                           NaN   \n",
       "302  444  apocalypse                         Tokyo   \n",
       "303  445  apocalypse                           NaN   \n",
       "304  446  armageddon     California, United States   \n",
       "305  447  armageddon     California, United States   \n",
       "306  448  armageddon              #FLIGHTCITY UK     \n",
       "307  450  armageddon                           NaN   \n",
       "308  451  armageddon                           NaN   \n",
       "309  452  armageddon  Alphen aan den Rijn, Holland   \n",
       "310  453  armageddon                           NaN   \n",
       "\n",
       "                                                                                                                                           text  \\\n",
       "301                                        short reading apocalypse in the spirit the angel took me to the top of an enormous high mountain and   \n",
       "302  enjoyed live action attack on titan but every time i see posters i am reminded how freshly clean and coiffed everyone is in the apocalypse   \n",
       "303                                             i liked a youtube video minecraft night lucky block mod bob apocalypse wither more mod showcase   \n",
       "304                                                                 pbban temporary avysss armageddon do not kill flags only fast xp for reason   \n",
       "305                                                                pbban temporary russaky armageddon do not kill flags only fast xp for reason   \n",
       "306                                                                               official vid doublecups trubgme prod thisizbwright armageddon   \n",
       "307                                                                                                               ouvindo peace love armageddon   \n",
       "308                                                                                                    best movie you have ever seen armageddon   \n",
       "309                                                                            bed time do not wake me up unless revolution or armageddon start   \n",
       "310                                                                                     red faction armageddon microsoft xbox full read by ebay   \n",
       "\n",
       "     target  \n",
       "301     1.0  \n",
       "302     0.0  \n",
       "303     0.0  \n",
       "304     0.0  \n",
       "305     0.0  \n",
       "306     0.0  \n",
       "307     0.0  \n",
       "308     0.0  \n",
       "309     0.0  \n",
       "310     0.0  "
      ]
     },
     "execution_count": 11,
     "metadata": {},
     "output_type": "execute_result"
    }
   ],
   "source": [
    "df[301:311]"
   ]
  },
  {
   "cell_type": "markdown",
   "id": "07287056",
   "metadata": {
    "papermill": {
     "duration": 0.007344,
     "end_time": "2022-09-02T14:47:28.650740",
     "exception": false,
     "start_time": "2022-09-02T14:47:28.643396",
     "status": "completed"
    },
    "tags": []
   },
   "source": [
    "Remove Stopwords"
   ]
  },
  {
   "cell_type": "code",
   "execution_count": 12,
   "id": "cf3faeb1",
   "metadata": {
    "execution": {
     "iopub.execute_input": "2022-09-02T14:47:28.667936Z",
     "iopub.status.busy": "2022-09-02T14:47:28.667105Z",
     "iopub.status.idle": "2022-09-02T14:47:28.821457Z",
     "shell.execute_reply": "2022-09-02T14:47:28.819656Z"
    },
    "papermill": {
     "duration": 0.165906,
     "end_time": "2022-09-02T14:47:28.824186",
     "exception": false,
     "start_time": "2022-09-02T14:47:28.658280",
     "status": "completed"
    },
    "tags": []
   },
   "outputs": [
    {
     "name": "stderr",
     "output_type": "stream",
     "text": [
      "[nltk_data] Downloading package stopwords to /usr/share/nltk_data...\n",
      "[nltk_data]   Package stopwords is already up-to-date!\n"
     ]
    }
   ],
   "source": [
    "nltk.download('stopwords')\n",
    "sw = stopwords.words('english')\n",
    "\n",
    "def remove_stopwords(text):\n",
    "    text = ' '.join([word for word in text.split() if word not in sw])\n",
    "    return text"
   ]
  },
  {
   "cell_type": "code",
   "execution_count": 13,
   "id": "cc2f02cf",
   "metadata": {
    "execution": {
     "iopub.execute_input": "2022-09-02T14:47:28.841465Z",
     "iopub.status.busy": "2022-09-02T14:47:28.841032Z",
     "iopub.status.idle": "2022-09-02T14:47:28.855292Z",
     "shell.execute_reply": "2022-09-02T14:47:28.854384Z"
    },
    "papermill": {
     "duration": 0.025495,
     "end_time": "2022-09-02T14:47:28.857551",
     "exception": false,
     "start_time": "2022-09-02T14:47:28.832056",
     "status": "completed"
    },
    "tags": []
   },
   "outputs": [
    {
     "data": {
      "text/html": [
       "<div>\n",
       "<style scoped>\n",
       "    .dataframe tbody tr th:only-of-type {\n",
       "        vertical-align: middle;\n",
       "    }\n",
       "\n",
       "    .dataframe tbody tr th {\n",
       "        vertical-align: top;\n",
       "    }\n",
       "\n",
       "    .dataframe thead th {\n",
       "        text-align: right;\n",
       "    }\n",
       "</style>\n",
       "<table border=\"1\" class=\"dataframe\">\n",
       "  <thead>\n",
       "    <tr style=\"text-align: right;\">\n",
       "      <th></th>\n",
       "      <th>id</th>\n",
       "      <th>keyword</th>\n",
       "      <th>location</th>\n",
       "      <th>text</th>\n",
       "      <th>target</th>\n",
       "    </tr>\n",
       "  </thead>\n",
       "  <tbody>\n",
       "    <tr>\n",
       "      <th>301</th>\n",
       "      <td>443</td>\n",
       "      <td>apocalypse</td>\n",
       "      <td>NaN</td>\n",
       "      <td>short reading apocalypse in the spirit the angel took me to the top of an enormous high mountain and</td>\n",
       "      <td>1.0</td>\n",
       "    </tr>\n",
       "    <tr>\n",
       "      <th>302</th>\n",
       "      <td>444</td>\n",
       "      <td>apocalypse</td>\n",
       "      <td>Tokyo</td>\n",
       "      <td>enjoyed live action attack on titan but every time i see posters i am reminded how freshly clean and coiffed everyone is in the apocalypse</td>\n",
       "      <td>0.0</td>\n",
       "    </tr>\n",
       "    <tr>\n",
       "      <th>303</th>\n",
       "      <td>445</td>\n",
       "      <td>apocalypse</td>\n",
       "      <td>NaN</td>\n",
       "      <td>i liked a youtube video minecraft night lucky block mod bob apocalypse wither more mod showcase</td>\n",
       "      <td>0.0</td>\n",
       "    </tr>\n",
       "    <tr>\n",
       "      <th>304</th>\n",
       "      <td>446</td>\n",
       "      <td>armageddon</td>\n",
       "      <td>California, United States</td>\n",
       "      <td>pbban temporary avysss armageddon do not kill flags only fast xp for reason</td>\n",
       "      <td>0.0</td>\n",
       "    </tr>\n",
       "    <tr>\n",
       "      <th>305</th>\n",
       "      <td>447</td>\n",
       "      <td>armageddon</td>\n",
       "      <td>California, United States</td>\n",
       "      <td>pbban temporary russaky armageddon do not kill flags only fast xp for reason</td>\n",
       "      <td>0.0</td>\n",
       "    </tr>\n",
       "    <tr>\n",
       "      <th>306</th>\n",
       "      <td>448</td>\n",
       "      <td>armageddon</td>\n",
       "      <td>#FLIGHTCITY UK</td>\n",
       "      <td>official vid doublecups trubgme prod thisizbwright armageddon</td>\n",
       "      <td>0.0</td>\n",
       "    </tr>\n",
       "    <tr>\n",
       "      <th>307</th>\n",
       "      <td>450</td>\n",
       "      <td>armageddon</td>\n",
       "      <td>NaN</td>\n",
       "      <td>ouvindo peace love armageddon</td>\n",
       "      <td>0.0</td>\n",
       "    </tr>\n",
       "    <tr>\n",
       "      <th>308</th>\n",
       "      <td>451</td>\n",
       "      <td>armageddon</td>\n",
       "      <td>NaN</td>\n",
       "      <td>best movie you have ever seen armageddon</td>\n",
       "      <td>0.0</td>\n",
       "    </tr>\n",
       "    <tr>\n",
       "      <th>309</th>\n",
       "      <td>452</td>\n",
       "      <td>armageddon</td>\n",
       "      <td>Alphen aan den Rijn, Holland</td>\n",
       "      <td>bed time do not wake me up unless revolution or armageddon start</td>\n",
       "      <td>0.0</td>\n",
       "    </tr>\n",
       "    <tr>\n",
       "      <th>310</th>\n",
       "      <td>453</td>\n",
       "      <td>armageddon</td>\n",
       "      <td>NaN</td>\n",
       "      <td>red faction armageddon microsoft xbox full read by ebay</td>\n",
       "      <td>0.0</td>\n",
       "    </tr>\n",
       "  </tbody>\n",
       "</table>\n",
       "</div>"
      ],
      "text/plain": [
       "      id     keyword                      location  \\\n",
       "301  443  apocalypse                           NaN   \n",
       "302  444  apocalypse                         Tokyo   \n",
       "303  445  apocalypse                           NaN   \n",
       "304  446  armageddon     California, United States   \n",
       "305  447  armageddon     California, United States   \n",
       "306  448  armageddon              #FLIGHTCITY UK     \n",
       "307  450  armageddon                           NaN   \n",
       "308  451  armageddon                           NaN   \n",
       "309  452  armageddon  Alphen aan den Rijn, Holland   \n",
       "310  453  armageddon                           NaN   \n",
       "\n",
       "                                                                                                                                           text  \\\n",
       "301                                        short reading apocalypse in the spirit the angel took me to the top of an enormous high mountain and   \n",
       "302  enjoyed live action attack on titan but every time i see posters i am reminded how freshly clean and coiffed everyone is in the apocalypse   \n",
       "303                                             i liked a youtube video minecraft night lucky block mod bob apocalypse wither more mod showcase   \n",
       "304                                                                 pbban temporary avysss armageddon do not kill flags only fast xp for reason   \n",
       "305                                                                pbban temporary russaky armageddon do not kill flags only fast xp for reason   \n",
       "306                                                                               official vid doublecups trubgme prod thisizbwright armageddon   \n",
       "307                                                                                                               ouvindo peace love armageddon   \n",
       "308                                                                                                    best movie you have ever seen armageddon   \n",
       "309                                                                            bed time do not wake me up unless revolution or armageddon start   \n",
       "310                                                                                     red faction armageddon microsoft xbox full read by ebay   \n",
       "\n",
       "     target  \n",
       "301     1.0  \n",
       "302     0.0  \n",
       "303     0.0  \n",
       "304     0.0  \n",
       "305     0.0  \n",
       "306     0.0  \n",
       "307     0.0  \n",
       "308     0.0  \n",
       "309     0.0  \n",
       "310     0.0  "
      ]
     },
     "execution_count": 13,
     "metadata": {},
     "output_type": "execute_result"
    }
   ],
   "source": [
    "df[301:311]"
   ]
  },
  {
   "cell_type": "code",
   "execution_count": 14,
   "id": "08006752",
   "metadata": {
    "execution": {
     "iopub.execute_input": "2022-09-02T14:47:28.875862Z",
     "iopub.status.busy": "2022-09-02T14:47:28.875118Z",
     "iopub.status.idle": "2022-09-02T14:47:29.268993Z",
     "shell.execute_reply": "2022-09-02T14:47:29.267772Z"
    },
    "papermill": {
     "duration": 0.406346,
     "end_time": "2022-09-02T14:47:29.271713",
     "exception": false,
     "start_time": "2022-09-02T14:47:28.865367",
     "status": "completed"
    },
    "tags": []
   },
   "outputs": [],
   "source": [
    "df['text'] = df['text'].apply(lambda x: remove_stopwords(x))"
   ]
  },
  {
   "cell_type": "code",
   "execution_count": 15,
   "id": "d16935fa",
   "metadata": {
    "execution": {
     "iopub.execute_input": "2022-09-02T14:47:29.289189Z",
     "iopub.status.busy": "2022-09-02T14:47:29.288732Z",
     "iopub.status.idle": "2022-09-02T14:47:29.304087Z",
     "shell.execute_reply": "2022-09-02T14:47:29.302903Z"
    },
    "papermill": {
     "duration": 0.027022,
     "end_time": "2022-09-02T14:47:29.306534",
     "exception": false,
     "start_time": "2022-09-02T14:47:29.279512",
     "status": "completed"
    },
    "tags": []
   },
   "outputs": [
    {
     "data": {
      "text/html": [
       "<div>\n",
       "<style scoped>\n",
       "    .dataframe tbody tr th:only-of-type {\n",
       "        vertical-align: middle;\n",
       "    }\n",
       "\n",
       "    .dataframe tbody tr th {\n",
       "        vertical-align: top;\n",
       "    }\n",
       "\n",
       "    .dataframe thead th {\n",
       "        text-align: right;\n",
       "    }\n",
       "</style>\n",
       "<table border=\"1\" class=\"dataframe\">\n",
       "  <thead>\n",
       "    <tr style=\"text-align: right;\">\n",
       "      <th></th>\n",
       "      <th>id</th>\n",
       "      <th>keyword</th>\n",
       "      <th>location</th>\n",
       "      <th>text</th>\n",
       "      <th>target</th>\n",
       "    </tr>\n",
       "  </thead>\n",
       "  <tbody>\n",
       "    <tr>\n",
       "      <th>301</th>\n",
       "      <td>443</td>\n",
       "      <td>apocalypse</td>\n",
       "      <td>NaN</td>\n",
       "      <td>short reading apocalypse spirit angel took top enormous high mountain</td>\n",
       "      <td>1.0</td>\n",
       "    </tr>\n",
       "    <tr>\n",
       "      <th>302</th>\n",
       "      <td>444</td>\n",
       "      <td>apocalypse</td>\n",
       "      <td>Tokyo</td>\n",
       "      <td>enjoyed live action attack titan every time see posters reminded freshly clean coiffed everyone apocalypse</td>\n",
       "      <td>0.0</td>\n",
       "    </tr>\n",
       "    <tr>\n",
       "      <th>303</th>\n",
       "      <td>445</td>\n",
       "      <td>apocalypse</td>\n",
       "      <td>NaN</td>\n",
       "      <td>liked youtube video minecraft night lucky block mod bob apocalypse wither mod showcase</td>\n",
       "      <td>0.0</td>\n",
       "    </tr>\n",
       "    <tr>\n",
       "      <th>304</th>\n",
       "      <td>446</td>\n",
       "      <td>armageddon</td>\n",
       "      <td>California, United States</td>\n",
       "      <td>pbban temporary avysss armageddon kill flags fast xp reason</td>\n",
       "      <td>0.0</td>\n",
       "    </tr>\n",
       "    <tr>\n",
       "      <th>305</th>\n",
       "      <td>447</td>\n",
       "      <td>armageddon</td>\n",
       "      <td>California, United States</td>\n",
       "      <td>pbban temporary russaky armageddon kill flags fast xp reason</td>\n",
       "      <td>0.0</td>\n",
       "    </tr>\n",
       "    <tr>\n",
       "      <th>306</th>\n",
       "      <td>448</td>\n",
       "      <td>armageddon</td>\n",
       "      <td>#FLIGHTCITY UK</td>\n",
       "      <td>official vid doublecups trubgme prod thisizbwright armageddon</td>\n",
       "      <td>0.0</td>\n",
       "    </tr>\n",
       "    <tr>\n",
       "      <th>307</th>\n",
       "      <td>450</td>\n",
       "      <td>armageddon</td>\n",
       "      <td>NaN</td>\n",
       "      <td>ouvindo peace love armageddon</td>\n",
       "      <td>0.0</td>\n",
       "    </tr>\n",
       "    <tr>\n",
       "      <th>308</th>\n",
       "      <td>451</td>\n",
       "      <td>armageddon</td>\n",
       "      <td>NaN</td>\n",
       "      <td>best movie ever seen armageddon</td>\n",
       "      <td>0.0</td>\n",
       "    </tr>\n",
       "    <tr>\n",
       "      <th>309</th>\n",
       "      <td>452</td>\n",
       "      <td>armageddon</td>\n",
       "      <td>Alphen aan den Rijn, Holland</td>\n",
       "      <td>bed time wake unless revolution armageddon start</td>\n",
       "      <td>0.0</td>\n",
       "    </tr>\n",
       "    <tr>\n",
       "      <th>310</th>\n",
       "      <td>453</td>\n",
       "      <td>armageddon</td>\n",
       "      <td>NaN</td>\n",
       "      <td>red faction armageddon microsoft xbox full read ebay</td>\n",
       "      <td>0.0</td>\n",
       "    </tr>\n",
       "  </tbody>\n",
       "</table>\n",
       "</div>"
      ],
      "text/plain": [
       "      id     keyword                      location  \\\n",
       "301  443  apocalypse                           NaN   \n",
       "302  444  apocalypse                         Tokyo   \n",
       "303  445  apocalypse                           NaN   \n",
       "304  446  armageddon     California, United States   \n",
       "305  447  armageddon     California, United States   \n",
       "306  448  armageddon              #FLIGHTCITY UK     \n",
       "307  450  armageddon                           NaN   \n",
       "308  451  armageddon                           NaN   \n",
       "309  452  armageddon  Alphen aan den Rijn, Holland   \n",
       "310  453  armageddon                           NaN   \n",
       "\n",
       "                                                                                                           text  \\\n",
       "301                                       short reading apocalypse spirit angel took top enormous high mountain   \n",
       "302  enjoyed live action attack titan every time see posters reminded freshly clean coiffed everyone apocalypse   \n",
       "303                      liked youtube video minecraft night lucky block mod bob apocalypse wither mod showcase   \n",
       "304                                                 pbban temporary avysss armageddon kill flags fast xp reason   \n",
       "305                                                pbban temporary russaky armageddon kill flags fast xp reason   \n",
       "306                                               official vid doublecups trubgme prod thisizbwright armageddon   \n",
       "307                                                                               ouvindo peace love armageddon   \n",
       "308                                                                             best movie ever seen armageddon   \n",
       "309                                                            bed time wake unless revolution armageddon start   \n",
       "310                                                        red faction armageddon microsoft xbox full read ebay   \n",
       "\n",
       "     target  \n",
       "301     1.0  \n",
       "302     0.0  \n",
       "303     0.0  \n",
       "304     0.0  \n",
       "305     0.0  \n",
       "306     0.0  \n",
       "307     0.0  \n",
       "308     0.0  \n",
       "309     0.0  \n",
       "310     0.0  "
      ]
     },
     "execution_count": 15,
     "metadata": {},
     "output_type": "execute_result"
    }
   ],
   "source": [
    "df[301:311]"
   ]
  },
  {
   "cell_type": "markdown",
   "id": "26e9a323",
   "metadata": {
    "papermill": {
     "duration": 0.007607,
     "end_time": "2022-09-02T14:47:29.322269",
     "exception": false,
     "start_time": "2022-09-02T14:47:29.314662",
     "status": "completed"
    },
    "tags": []
   },
   "source": [
    "**Coverage After Pre-processing**"
   ]
  },
  {
   "cell_type": "code",
   "execution_count": 16,
   "id": "f2e99832",
   "metadata": {
    "execution": {
     "iopub.execute_input": "2022-09-02T14:47:29.340552Z",
     "iopub.status.busy": "2022-09-02T14:47:29.340109Z",
     "iopub.status.idle": "2022-09-02T14:47:29.469056Z",
     "shell.execute_reply": "2022-09-02T14:47:29.467156Z"
    },
    "papermill": {
     "duration": 0.141942,
     "end_time": "2022-09-02T14:47:29.472281",
     "exception": false,
     "start_time": "2022-09-02T14:47:29.330339",
     "status": "completed"
    },
    "tags": []
   },
   "outputs": [
    {
     "name": "stdout",
     "output_type": "stream",
     "text": [
      "Glove : \n",
      "Found embeddings for 75.52% of vocab\n",
      "Found embeddings for  93.76% of all text\n",
      "Paragram : \n",
      "Found embeddings for 64.37% of vocab\n",
      "Found embeddings for  89.56% of all text\n",
      "FastText : \n",
      "Found embeddings for 69.17% of vocab\n",
      "Found embeddings for  91.87% of all text\n"
     ]
    }
   ],
   "source": [
    "vocab = build_vocab(df['text'])\n",
    "print(\"Glove : \")\n",
    "oov_glove = check_coverage(vocab, embed_glove)\n",
    "print(\"Paragram : \")\n",
    "oov_paragram = check_coverage(vocab, embed_paragram)\n",
    "print(\"FastText : \")\n",
    "oov_fasttext = check_coverage(vocab, embed_fasttext)"
   ]
  }
 ],
 "metadata": {
  "kernelspec": {
   "display_name": "Python 3",
   "language": "python",
   "name": "python3"
  },
  "language_info": {
   "codemirror_mode": {
    "name": "ipython",
    "version": 3
   },
   "file_extension": ".py",
   "mimetype": "text/x-python",
   "name": "python",
   "nbconvert_exporter": "python",
   "pygments_lexer": "ipython3",
   "version": "3.7.12"
  },
  "papermill": {
   "default_parameters": {},
   "duration": 268.550692,
   "end_time": "2022-09-02T14:47:32.406124",
   "environment_variables": {},
   "exception": null,
   "input_path": "__notebook__.ipynb",
   "output_path": "__notebook__.ipynb",
   "parameters": {},
   "start_time": "2022-09-02T14:43:03.855432",
   "version": "2.3.4"
  }
 },
 "nbformat": 4,
 "nbformat_minor": 5
}
